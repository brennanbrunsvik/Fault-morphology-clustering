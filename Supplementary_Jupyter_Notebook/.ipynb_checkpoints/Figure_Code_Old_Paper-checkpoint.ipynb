{
 "cells": [
  {
   "cell_type": "code",
   "execution_count": null,
   "metadata": {
    "collapsed": true
   },
   "outputs": [],
   "source": [
    "# This code can be brought back into the main file later. "
   ]
  },
  {
   "cell_type": "code",
   "execution_count": null,
   "metadata": {
    "collapsed": true
   },
   "outputs": [],
   "source": [
    "#Figure 6 a\n",
    "#Simple dCS vs time plot\n",
    "ave = np.average(dCS)\n",
    "stdDev = np.std(dCS)\n",
    "\n",
    "fig = plt.figure(figsize = (10, 7))\n",
    "ax = fig.add_subplot(111)\n",
    "laqPos = mL==np.amax(mL)\n",
    "plt.scatter(tt, dCS*1e-6, s = 5, linewidths=(.3), edgecolors='black')\n",
    "plt.ylim(-4,4)\n",
    "plt.scatter(300, ave*1e-6, c = 'red', zorder=3)\n",
    "plt.plot([min(tt), max(tt)], [0, 0], 'r--',c = 'black', linewidth =1)\n",
    "plt.plot([300, 300], [1e-6*(ave-stdDev), 1e-6*(ave+stdDev)], c = 'black', linewidth=1)\n",
    "plt.scatter(tt[laqPos], dCS[laqPos]*1e-6, s=40, c='orange', zorder=4)\n",
    "plt.title('Day of Year vs. $\\Delta$CFF')\n",
    "plt.xlabel('Day of Year')\n",
    "plt.ylabel('$\\Delta$CFF MPa')\n",
    "\n",
    "marker1 = plt.scatter([],[], c = 'blue')\n",
    "marker2 = plt.scatter([],[], c = 'orange')\n",
    "marker3 = plt.scatter([],[], c = 'red')\n",
    "\n",
    "\n",
    "legend_markers = [marker1, marker2, marker3]\n",
    "\n",
    "labels = ['All', 'L\\'Aquilla', 'Average']\n",
    "\n",
    "plt.legend(handles=legend_markers, labels=labels, loc='upper right',scatterpoints=1)\n",
    "plt.savefig('day of year vs dcff 2', dpi = 400)\n",
    "plt.show()"
   ]
  },
  {
   "cell_type": "code",
   "execution_count": null,
   "metadata": {
    "collapsed": true
   },
   "outputs": [],
   "source": [
    "#plots highest dCS of the two planes in each focal mechanism\n",
    "C2 = dCS<dCS2\n",
    "dCSGreater = dCS.copy()\n",
    "dCSGreater[C2]=dCS2[C2]\n",
    "\n",
    "#Figure 6 a\n",
    "#Simple dCS vs time plot\n",
    "ave = np.average(dCSGreater)\n",
    "stdDev = np.std(dCSGreater)\n",
    "\n",
    "fig = plt.figure(figsize = (10, 7))\n",
    "ax = fig.add_subplot(111)\n",
    "laqPos = mL==np.amax(mL)\n",
    "plt.scatter(tt, dCSGreater*1e-6, s = 5, linewidths=(.3), edgecolors='black')\n",
    "plt.scatter(tt, dCSGreater*1e-6, s = 1e-6, linewidths=(.3), edgecolors='black')\n",
    "plt.ylim(-4,4)\n",
    "plt.scatter(300, ave*1e-6, c = 'red', zorder=3)\n",
    "plt.plot([min(tt), max(tt)], [0, 0], 'r--',c = 'black', linewidth =1)\n",
    "plt.plot([300, 300], [1e-6*(ave-stdDev), 1e-6*(ave+stdDev)], c = 'black', linewidth=1)\n",
    "plt.scatter(tt[laqPos], dCSGreater[laqPos]*1e-6, s=40, c='orange', zorder=4)\n",
    "plt.title('Day of Year vs. $\\Delta$CFF')\n",
    "plt.xlabel('Day of Year')\n",
    "plt.ylabel('$\\Delta$CFF MPa')\n",
    "\n",
    "marker1 = plt.scatter([],[], c = 'blue')\n",
    "marker2 = plt.scatter([],[], c = 'orange')\n",
    "marker3 = plt.scatter([],[], c = 'red')\n",
    "\n",
    "\n",
    "legend_markers = [marker1, marker2, marker3]\n",
    "\n",
    "labels = ['All', 'L\\'Aquilla', 'Average']\n",
    "\n",
    "plt.legend(handles=legend_markers, labels=labels, loc='upper right',scatterpoints=1)\n",
    "plt.savefig('day of year vs dcff 2', dpi = 400)\n",
    "plt.show()"
   ]
  },
  {
   "cell_type": "code",
   "execution_count": null,
   "metadata": {
    "collapsed": true
   },
   "outputs": [],
   "source": [
    "#Figure 6 b\n",
    "#dCS vs time plot showing also magnitude\n",
    "ave = np.average(dCS)\n",
    "stdDev = np.std(dCS)\n",
    "\n",
    "fig = plt.figure(figsize = (14, 9))\n",
    "ax = fig.add_subplot(111)\n",
    "laqPos = mL==np.amax(mL)\n",
    "plt.scatter(tt, dCS*1e-6, s = mL**4 / 1.5, linewidths=(.3), edgecolors='black')\n",
    "#plt.scatter(tt, dCS*1e-6, s = 1e-6, linewidths=(.3), edgecolors='black')\n",
    "plt.ylim(-4,4)\n",
    "plt.scatter(300, ave*1e-6, c = 'red', zorder=3, linewidths=(.3), edgecolors='black', s = 100)\n",
    "plt.plot([min(tt), max(tt)], [0, 0], 'r--',c = 'black', linewidth =1)\n",
    "plt.plot([300, 300], [1e-6*(ave-stdDev), 1e-6*(ave+stdDev)], c = 'black', linewidth=1)\n",
    "plt.scatter(tt[laqPos], dCS[laqPos]*1e-6, c='orange', zorder=4, s = 100, linewidths=(.3), edgecolors='black')\n",
    "plt.title('Day of Year vs. $\\Delta$CFF')\n",
    "plt.xlabel('Day of Year')\n",
    "plt.ylabel('$\\Delta$CFF MPa')\n",
    "\n",
    "marker1 = plt.scatter([],[], c = 'blue')\n",
    "marker2 = plt.scatter([],[], c = 'orange')\n",
    "marker3 = plt.scatter([],[], c = 'red')\n",
    "marker4 = plt.scatter([],[], c = 'blue', s = 3**4/1.5)\n",
    "marker5 = plt.scatter([],[], c = 'blue', s = 5**4/1.5)\n",
    "\n",
    "legend_markers = [marker1, marker2, marker3, marker4, marker5]\n",
    "\n",
    "labels = ['All', 'L\\'Aquilla', 'Average', 'mL = 3', 'mL = 5']\n",
    "\n",
    "plt.legend(handles=legend_markers, labels=labels, loc='upper right',scatterpoints=1)\n",
    "\n",
    "#plt.savefig('day of year vs dcff', dpi = 600)\n",
    "plt.show()"
   ]
  },
  {
   "cell_type": "code",
   "execution_count": null,
   "metadata": {
    "collapsed": true
   },
   "outputs": [],
   "source": [
    "#Figure 7a\n",
    "#Coulomb stress vs Magnitude, for only positive dcs events\n",
    "ryb = plt.cm.get_cmap('RdYlBu')\n",
    "byr = reverse_colourmap(ryb)\n",
    "matplotlib.rcParams.update({'font.size': 20})\n",
    "plt.figure(figsize=(16,10))\n",
    "pos = dCS>0\n",
    "plt.scatter(np.log10(dCS[pos]),mL[pos],c=tt[pos],cmap=ryb, s = 25)\n",
    "cbar = plt.colorbar()\n",
    "cbar.set_label('Day of Year')\n",
    "plt.title('Positive Change in Coulomb Stress vs. Magnitude and Time')\n",
    "plt.xlabel('log10($\\Delta$CFF)')\n",
    "plt.ylabel('mL')\n",
    "plt.savefig('positive change in coulomb stress vs manitude and time', dpi = 400)\n",
    "plt.show()"
   ]
  },
  {
   "cell_type": "code",
   "execution_count": null,
   "metadata": {
    "collapsed": true
   },
   "outputs": [],
   "source": [
    "#Figure 7 b\n",
    "#Coulomb stress vs Magnitude, for only negative dcs events\n",
    "ryb = plt.cm.get_cmap('RdYlBu')\n",
    "byr = reverse_colourmap(ryb)\n",
    "neg = dCS<0\n",
    "matplotlib.rcParams.update({'font.size': 14})\n",
    "plt.figure(figsize=(10, 6))\n",
    "plt.scatter(np.log10(-dCS[neg]),mL[neg],c=tt[neg],cmap=ryb, s = 10)\n",
    "cbar = plt.colorbar()\n",
    "cbar.set_label('Day of Year')\n",
    "plt.title('Negative Change in Coulomb Stress vs. Magnitude and Time')\n",
    "plt.xlabel('log10(-$\\Delta$CFF)')\n",
    "plt.ylabel('mL')\n",
    "plt.savefig('negative change in coulomb stress vs manitude and time', dpi = 400)\n",
    "plt.show()"
   ]
  },
  {
   "cell_type": "code",
   "execution_count": null,
   "metadata": {
    "collapsed": true
   },
   "outputs": [],
   "source": [
    "#Figure 8\n",
    "#Histogram showing angle between shear force and slip direction\n",
    "\n",
    "#calculation of the angle\n",
    "quakes = sigSTotal[:,0].size\n",
    "sigSHat = np.zeros((quakes, 3))\n",
    "angle = np.zeros(quakes)\n",
    "for i in range(quakes):\n",
    "    sigSHat[i] = sigSTotal[i] / norm(sigSTotal[i])\n",
    "    angle[i] = np.arccos( np.dot(sigSHat[i], slips[i]) / (norm(slips[i]) * norm(sigSHat[i]) ) )\n",
    "\n",
    "#create the figure\n",
    "matplotlib.rcParams.update({'font.size': 14})\n",
    "plt.figure(figsize=(9,6))\n",
    "x = angle * 180/np.pi\n",
    "n, bins, patches = plt.hist(x, 45, range = (0, 180), facecolor='b', alpha=0.75)\n",
    "plt.title('Angle between shear force on fault vs. slip direction')\n",
    "plt.xlabel('Angle')\n",
    "plt.ylabel('Earthquakes at angle')\n",
    "plt.savefig('Angle between shear force on fault vs slip direction', dpi = 400)\n",
    "plt.show()\n",
    "#print(np.average(angle[dCS<0]*180/np.pi))\n",
    "#print(np.average(angle[dCS>0]*180/np.pi))"
   ]
  },
  {
   "cell_type": "code",
   "execution_count": null,
   "metadata": {
    "collapsed": true
   },
   "outputs": [],
   "source": [
    "#Figure 12\n",
    "\n",
    "#Shows location vs dCS. \n",
    "#note that I really need to change the coordinate system so that the vertical axis moves along strike, not north. \n",
    "laqPos = mL==np.amax(mL);lonLaq = lonFault[laqPos]; latLaq = latFault[laqPos]\n",
    "xPerpendicular, yParallel = alongStrike(lonFault, latFault, lonLaq, latLaq, 130*np.pi/180)\n",
    "\n",
    "matplotlib.rcParams.update({'font.size': 14})\n",
    "plt.figure(figsize=(8,5))\n",
    "rb = plt.cm.get_cmap('RdBu')\n",
    "br = reverse_colourmap(rb)\n",
    "select=tt<120\n",
    "#plt.scatter(tt[select],mL[select],c=np.log10(dCS[select]),cmap=br);plt.colorbar();plt.show()\n",
    "plt.scatter(tt[select],yParallel[select]/1e3,c=dCS[select]*10e-6,cmap=br,\n",
    "           vmin = -6, vmax = 6, s = 10, edgecolor='black', linewidth=.15)\n",
    "cbar = plt.colorbar()\n",
    "cbar.set_label('$\\Delta$CFF MPa')\n",
    "plt.xlabel('Day of Year')\n",
    "plt.ylabel('km along strike from hypocenter')\n",
    "plt.title('Latitude of Ruptures Through Time')\n",
    "plt.savefig('latitude of ruptures through time', dpi = 400)\n",
    "plt.show()\n",
    "#plt.scatter(tt[select],latFault[select],c=mL[select],cmap=cm);plt.colorbar();plt.show()\n",
    "\n"
   ]
  }
 ],
 "metadata": {
  "kernelspec": {
   "display_name": "Python 3",
   "language": "python",
   "name": "python3"
  },
  "language_info": {
   "codemirror_mode": {
    "name": "ipython",
    "version": 3
   },
   "file_extension": ".py",
   "mimetype": "text/x-python",
   "name": "python",
   "nbconvert_exporter": "python",
   "pygments_lexer": "ipython3",
   "version": "3.6.5"
  },
  "toc": {
   "base_numbering": 1,
   "nav_menu": {},
   "number_sections": true,
   "sideBar": true,
   "skip_h1_title": false,
   "title_cell": "Table of Contents",
   "title_sidebar": "Contents",
   "toc_cell": false,
   "toc_position": {},
   "toc_section_display": true,
   "toc_window_display": false
  },
  "varInspector": {
   "cols": {
    "lenName": 16,
    "lenType": 16,
    "lenVar": 40
   },
   "kernels_config": {
    "python": {
     "delete_cmd_postfix": "",
     "delete_cmd_prefix": "del ",
     "library": "var_list.py",
     "varRefreshCmd": "print(var_dic_list())"
    },
    "r": {
     "delete_cmd_postfix": ") ",
     "delete_cmd_prefix": "rm(",
     "library": "var_list.r",
     "varRefreshCmd": "cat(var_dic_list()) "
    }
   },
   "types_to_exclude": [
    "module",
    "function",
    "builtin_function_or_method",
    "instance",
    "_Feature"
   ],
   "window_display": false
  }
 },
 "nbformat": 4,
 "nbformat_minor": 2
}
