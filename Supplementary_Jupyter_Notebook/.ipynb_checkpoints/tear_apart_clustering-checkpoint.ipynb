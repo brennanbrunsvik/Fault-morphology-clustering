{
 "cells": [
  {
   "cell_type": "markdown",
   "metadata": {},
   "source": [
    "# Clustering Algorithms"
   ]
  },
  {
   "cell_type": "markdown",
   "metadata": {},
   "source": [
    "## Gaussian"
   ]
  },
  {
   "cell_type": "code",
   "execution_count": 11,
   "metadata": {
    "ExecuteTime": {
     "end_time": "2018-09-13T15:16:27.788674Z",
     "start_time": "2018-09-13T15:16:27.777938Z"
    }
   },
   "outputs": [],
   "source": [
    "# class gClust(hypoData):\n",
    "#     def __init__(self):\n",
    "#         hypoData.__init__(self)\n",
    "        \n",
    "#         self.fName = 'Gaussian.vtk'   \n",
    "#     def cluster(self):\n",
    "#         #weights = np.array([10,7,3,.01])\n",
    "#         #self.weights_init = weights/np.sum(weights)\n",
    "#         self.fitted = sklearn.mixture.GaussianMixture(\n",
    "#             n_components = self.n_components,\n",
    "#             #weights_init=self.weights_init\n",
    "#             ).fit(self.p)\n",
    "#         self.labels = self.fitted.predict(self.p)\n",
    "  \n",
    "# gm = gClust()\n",
    "# gm.minMag=2.5\n",
    "# gm.getHypocenters()\n",
    "\n",
    "# gm.n_components = 7\n",
    "\n",
    "# gm.cluster()\n",
    "# gm.plot2d()\n",
    "# gm.vtkSave()"
   ]
  },
  {
   "cell_type": "markdown",
   "metadata": {},
   "source": [
    "## Bayesian Gaussian"
   ]
  },
  {
   "cell_type": "code",
   "execution_count": 12,
   "metadata": {
    "ExecuteTime": {
     "end_time": "2018-09-13T15:16:27.913670Z",
     "start_time": "2018-09-13T15:16:27.796459Z"
    }
   },
   "outputs": [],
   "source": [
    "# class bgClust(hypoData):\n",
    "#     def __init__(self):\n",
    "#         hypoData.__init__(self)\n",
    "        \n",
    "#         self.fName = 'BayesianGaussian.vtk'\n",
    "        \n",
    "#     def cluster(self):\n",
    "        \n",
    "#         self.fitted = sklearn.mixture.BayesianGaussianMixture(\n",
    "#             n_components=self.n_components,\n",
    "#             #weight_concentration_prior_type = 'dirichlet_distribution'\n",
    "#             ).fit(self.p)\n",
    "#         self.labels = self.fitted.predict(self.p)\n",
    "        \n",
    "# bg = bgClust()\n",
    "# bg.minMag=0\n",
    "# bg.getHypocenters()\n",
    "\n",
    "# bg.n_components = 6\n",
    "\n",
    "# bg.cluster()"
   ]
  },
  {
   "cell_type": "code",
   "execution_count": 13,
   "metadata": {
    "ExecuteTime": {
     "end_time": "2018-09-13T15:16:27.985864Z",
     "start_time": "2018-09-13T15:16:27.925170Z"
    }
   },
   "outputs": [],
   "source": [
    "# bg.plot2d()\n",
    "# bg.vtkSave()\n",
    "        "
   ]
  },
  {
   "cell_type": "markdown",
   "metadata": {},
   "source": [
    "## db scan"
   ]
  },
  {
   "cell_type": "code",
   "execution_count": 14,
   "metadata": {
    "ExecuteTime": {
     "end_time": "2018-09-13T15:16:28.071513Z",
     "start_time": "2018-09-13T15:16:27.996900Z"
    }
   },
   "outputs": [],
   "source": [
    "class dbClust(hypoData):\n",
    "    def __init__(self):\n",
    "        hypoData.__init__(self)\n",
    "        self.sort=False\n",
    "        \n",
    "    def fitdbscan(self, weight=None):        \n",
    "#         self.pTrans = sklearn.preprocessing.StandardScaler().fit_transform(self.p)\n",
    "        self.pTrans=self.p\n",
    "        \n",
    "        if weight is None:       \n",
    "            self.db = sklearn.cluster.DBSCAN(\n",
    "                eps=self.eps, min_samples=self.min_samples, \n",
    "                n_jobs=multiprocessing.cpu_count()-1\n",
    "                ).fit(self.pTrans)\n",
    "        elif weight is not None:\n",
    "            self.db = sklearn.cluster.DBSCAN(\n",
    "                eps=self.eps, min_samples=self.min_samples, \n",
    "                n_jobs=multiprocessing.cpu_count()-1\n",
    "                ).fit(self.pTrans, weight)   \n",
    "        \n",
    "        self.labels=self.db.labels_"
   ]
  },
  {
   "cell_type": "markdown",
   "metadata": {},
   "source": [
    "Some successfull(ish) value combinations:\n",
    "- minMag, eps, min_samples\n",
    "- 1, 1e3, 20\n",
    "- 1, 1e3, 30\n",
    "- 0, 1.2e3, 80"
   ]
  },
  {
   "cell_type": "code",
   "execution_count": 15,
   "metadata": {
    "ExecuteTime": {
     "end_time": "2018-09-13T15:16:28.157529Z",
     "start_time": "2018-09-13T15:16:28.079599Z"
    }
   },
   "outputs": [],
   "source": [
    "# db = dbClust()\n",
    "# db.fName='dbscan.vtk'\n",
    "# db.minMag=0\n",
    "# db.sort=True\n",
    "# db.getHypocenters()\n",
    "\n",
    "# db.eps=.15\n",
    "# db.min_samples=80\n",
    "# db.fitdbscan()\n",
    "# db.plot2d()\n",
    "# print(np.amax(db.db.labels_))\n",
    "\n",
    "        \n",
    "\n",
    "# # db.plot3d()\n",
    "\n",
    "# db.vtkSave()"
   ]
  },
  {
   "cell_type": "markdown",
   "metadata": {},
   "source": [
    "## Aglomerative"
   ]
  },
  {
   "cell_type": "code",
   "execution_count": 16,
   "metadata": {
    "ExecuteTime": {
     "end_time": "2018-09-13T15:16:28.647857Z",
     "start_time": "2018-09-13T15:16:28.166151Z"
    }
   },
   "outputs": [],
   "source": [
    "# class agClust(hypoData):\n",
    "#     def __init__(self):\n",
    "#         hypoData.__init__(self)\n",
    "        \n",
    "#         self.n_clusters=2\n",
    "#         self.affinity='euclidean'\n",
    "#         self.memory=None\n",
    "#         self.connectivity=None\n",
    "#         self.compute_full_tree='auto'\n",
    "#         self.linkage='ward'\n",
    "        \n",
    "        \n",
    "#     def fitAgClust(self):        \n",
    "#         self.pTrans = sklearn.preprocessing.StandardScaler().fit_transform(self.p)\n",
    "        \n",
    "#         self.output = sklearn.cluster.AgglomerativeClustering(\n",
    "#             self.n_clusters,\n",
    "#             affinity=self.affinity,\n",
    "#             memory=self.memory,\n",
    "#             connectivity=self.connectivity,\n",
    "#             compute_full_tree=self.compute_full_tree,\n",
    "#             linkage=self.linkage\n",
    "#             ).fit(self.p)\n",
    "        \n",
    "#         self.labels=self.output.labels_"
   ]
  },
  {
   "cell_type": "code",
   "execution_count": 17,
   "metadata": {
    "ExecuteTime": {
     "end_time": "2018-09-13T15:16:28.727393Z",
     "start_time": "2018-09-13T15:16:28.661352Z"
    }
   },
   "outputs": [],
   "source": [
    "# ag = agClust()\n",
    "# ag.fName = 'AglomerateiveClustering.vtk'\n",
    "# ag.minMag=1.5\n",
    "# ag.getHypocenters()\n",
    "\n",
    "# ag.linkage=\"complete\"\n",
    "# ag.n_clusters = 8\n",
    "# ag.fitAgClust()\n",
    "\n",
    "# ag.plot2d()\n",
    "\n",
    "# ag.vtkSave()"
   ]
  },
  {
   "cell_type": "markdown",
   "metadata": {},
   "source": [
    "## My attempt to correlate points based on shape"
   ]
  },
  {
   "cell_type": "code",
   "execution_count": null,
   "metadata": {},
   "outputs": [],
   "source": []
  },
  {
   "cell_type": "markdown",
   "metadata": {},
   "source": [
    "Most of the other clustering algorythms take point density into account, but don't explicitly take shape into account. The goal is to quantify how likely a point is to be in the same fault as each other point based on how well points line up, as well as the distance between points. To do this, I take vectors pointing from an arbitrary point to each other point, and convert these vectors to spherical coordinates. I haven't decided how to continue yet. "
   ]
  },
  {
   "cell_type": "code",
   "execution_count": 18,
   "metadata": {
    "ExecuteTime": {
     "end_time": "2018-09-13T15:16:28.817191Z",
     "start_time": "2018-09-13T15:16:28.737189Z"
    }
   },
   "outputs": [],
   "source": [
    "# class vectorWeighted(hypoData):\n",
    "    \n",
    "#     def __init__(self):\n",
    "#         hypoData.__init__(self)\n",
    "#         self.exp=-1\n",
    "#         self.weightScheme='inverse'\n",
    "#         self.sort=False\n",
    "        \n",
    "#     def getVectors(self, i):\n",
    "#         # May not even need in the end.\n",
    "#         self.vectorsi = self.p - self.p[i]\n",
    "    \n",
    "#     def getSpherical(self, i):\n",
    "#         size = self.vectorsi[:,0].size\n",
    "#         notI = np.arange(size) != i\n",
    "        \n",
    "#         self.disti = np.zeros(size)\n",
    "#         self.thetai = np.zeros(size)\n",
    "#         self.phii = np.zeros(size)\n",
    "        \n",
    "#         self.disti[notI], self.thetai[notI], self.phii[notI] = cartToSpherical(\n",
    "#            self.vectorsi[:,0][notI], self.vectorsi[:,1][notI], self.vectorsi[:,2][notI] )\n",
    "        \n",
    "#     def getWeights(self, i):\n",
    "#         # TODO: I want to be able to choose between different weighting schemes later.\n",
    "#         notI = np.arange(self.disti.size) != i\n",
    "#         self.weighti = np.zeros(self.disti.size)\n",
    "        \n",
    "#         if self.weightScheme=='inverse':\n",
    "#             self.weighti[notI] = inverseDistWeight(self.disti[notI], self.exp)\n",
    "            \n",
    "#     def weightGridSum(self):\n",
    "#         print('hey')\n",
    "#         # Integral of weight dTheta dPhi for some finite values of dTheta and dPhi. \n",
    "        "
   ]
  },
  {
   "cell_type": "code",
   "execution_count": 19,
   "metadata": {
    "ExecuteTime": {
     "end_time": "2018-09-13T15:16:28.925756Z",
     "start_time": "2018-09-13T15:16:28.836632Z"
    }
   },
   "outputs": [],
   "source": [
    "# def inverseDistWeight(dist, exp, normalize = True):\n",
    "#     if normalize:\n",
    "#         dist = dist/np.amax(dist)\n",
    "#     weights = dist ** (exp)\n",
    "#     return weights\n",
    "\n",
    "\n",
    "# def cartToSpherical(x, y, z=None, xCent = 0, yCent = 0, zCent = 0, denomPrecis = 1e-15):\n",
    "#     \"\"\"Returns (dist, theta, phi)\n",
    "#     dist is magnitude of distance.\n",
    "#     Theta is measured from x axis toward y axis (standard).\n",
    "#     phi is measured from positive z axis towards point. 0<=phi<=pi\"\"\"\n",
    "#     if z is None:\n",
    "#         z = 0 * x\n",
    "    \n",
    "#     x=x-xCent; y=y-yCent; z=z-zCent\n",
    "    \n",
    "#     dist = np.sqrt( x**2 + y**2 + z**2 )\n",
    "    \n",
    "#     theta = np.arctan2(y, x) \n",
    "#     theta[theta<0]+=2*np.pi # Only positive values. \n",
    "    \n",
    "    \n",
    "#     rzQuadrantFix = z<0 # Have to manual deal with quadrant logic\n",
    "#     DNE = np.abs(z)<denomPrecis # Used to fix divide by zero error\n",
    "#     z[DNE] = denomPrecis - (z[DNE]<0 * 2*denomPrecis)\n",
    "#     phi = np.arctan( np.sqrt(x**2 + y**2) / z ) + np.pi * rzQuadrantFix\n",
    "    \n",
    "#     return dist, theta, phi"
   ]
  },
  {
   "cell_type": "code",
   "execution_count": 20,
   "metadata": {
    "ExecuteTime": {
     "end_time": "2018-09-13T15:16:29.039105Z",
     "start_time": "2018-09-13T15:16:28.931829Z"
    }
   },
   "outputs": [],
   "source": [
    "# ve = vectorWeighted()\n",
    "# ve.minMag=1\n",
    "# ve.getHypocenters()\n",
    "# ind = 0\n",
    "\n",
    "# ve.getVectors(ind)"
   ]
  },
  {
   "cell_type": "code",
   "execution_count": 21,
   "metadata": {
    "ExecuteTime": {
     "end_time": "2018-09-13T15:16:29.116118Z",
     "start_time": "2018-09-13T15:16:29.050342Z"
    }
   },
   "outputs": [],
   "source": [
    "# plt.scatter(-ve.thetai*180/np.pi, -ve.phii*180/np.pi, alpha=1, c = ve.weighti,\n",
    "#             s = 3,cmap='Greys')#, linewidths=1)\n",
    "# print('currently negative angles for viewing')\n",
    "# plt.colorbar()\n",
    "# plt.show()"
   ]
  },
  {
   "cell_type": "code",
   "execution_count": null,
   "metadata": {},
   "outputs": [],
   "source": []
  },
  {
   "cell_type": "markdown",
   "metadata": {},
   "source": [
    "# Spline error minimization"
   ]
  },
  {
   "cell_type": "markdown",
   "metadata": {},
   "source": [
    "- Test how well focal mechanisms match surface. \n",
    " - As a starting point, pretend that hypocenters should project in the direction normal to the initial optimal plane. Choose the normal of the surface there. \n",
    " - Will speak to the general accuracy of the surface inversion. \n",
    " - Will speak to the importance of fault zone thickness. \n",
    " \n",
    "- Test and compare a few different surfaces, most likely simply with a few different spline numbers. \n",
    "- Test how stress changes using the new fault surface. Compare to flat surface.\n",
    " - If results improve, this suggests that the surface is good. \n",
    " \n",
    "- Consider smoothing (regularization?) of the surface. I think we should be fine already since we have inverted for the best least squares surface using low degree knots. \n",
    "\n",
    "\n"
   ]
  },
  {
   "cell_type": "markdown",
   "metadata": {},
   "source": [
    "Notes\n",
    "- As part of clustering, I could cluster based on the line of intersection between the two focal planes. This removes ambiguity as to which plane is correct, but introduces ambiguity in regards to whether there was normal or reverse faulting. This seems much less problematic since most faults were normal faults. "
   ]
  },
  {
   "cell_type": "markdown",
   "metadata": {},
   "source": [
    "## Basic Functions"
   ]
  },
  {
   "cell_type": "code",
   "execution_count": 22,
   "metadata": {
    "ExecuteTime": {
     "end_time": "2018-09-13T15:16:29.204550Z",
     "start_time": "2018-09-13T15:16:29.124348Z"
    }
   },
   "outputs": [],
   "source": [
    "\n",
    "\n",
    "# st = 190*np.pi/180\n",
    "# dp = 89*np.pi/180\n",
    "# rk = 0\n",
    "# no, __ = faultUnitVectors(st, dp, rk)\n",
    "# st, dp = normalToStrikeDip(no)\n",
    "# print(st*180/np.pi, dp*180/np.pi)"
   ]
  },
  {
   "cell_type": "code",
   "execution_count": 23,
   "metadata": {
    "ExecuteTime": {
     "end_time": "2018-09-13T15:16:29.309230Z",
     "start_time": "2018-09-13T15:16:29.210024Z"
    }
   },
   "outputs": [],
   "source": []
  },
  {
   "cell_type": "code",
   "execution_count": 24,
   "metadata": {
    "ExecuteTime": {
     "end_time": "2018-09-13T15:16:29.547634Z",
     "start_time": "2018-09-13T15:16:29.315822Z"
    }
   },
   "outputs": [],
   "source": []
  },
  {
   "cell_type": "markdown",
   "metadata": {},
   "source": [
    "## Interp object"
   ]
  },
  {
   "cell_type": "code",
   "execution_count": 25,
   "metadata": {
    "ExecuteTime": {
     "end_time": "2018-09-13T15:16:29.676341Z",
     "start_time": "2018-09-13T15:16:29.562149Z"
    }
   },
   "outputs": [],
   "source": []
  },
  {
   "cell_type": "markdown",
   "metadata": {},
   "source": [
    "## First inversion"
   ]
  },
  {
   "cell_type": "code",
   "execution_count": 26,
   "metadata": {
    "ExecuteTime": {
     "end_time": "2018-09-13T15:16:34.291730Z",
     "start_time": "2018-09-13T15:16:29.683872Z"
    }
   },
   "outputs": [
    {
     "name": "stderr",
     "output_type": "stream",
     "text": [
      "/home/brennan/anaconda3/lib/python3.6/site-packages/scipy/interpolate/fitpack2.py:1119: UserWarning: \n",
      "The coefficients of the spline returned have been computed as the\n",
      "minimal norm least-squares solution of a (numerically) rank deficient\n",
      "system (deficiency=65). If deficiency is large, the results may be\n",
      "inaccurate. Deficiency may strongly depend on the value of eps.\n",
      "  warnings.warn(message)\n"
     ]
    }
   ],
   "source": []
  },
  {
   "cell_type": "code",
   "execution_count": 27,
   "metadata": {
    "ExecuteTime": {
     "end_time": "2018-09-13T15:16:35.063571Z",
     "start_time": "2018-09-13T15:16:34.296607Z"
    }
   },
   "outputs": [
    {
     "data": {
      "image/png": "[encoded data removed]",
      "text/plain": [
       "<Figure size 432x288 with 2 Axes>"
      ]
     },
     "metadata": {},
     "output_type": "display_data"
    }
   ],
   "source": []
  },
  {
   "cell_type": "code",
   "execution_count": 28,
   "metadata": {
    "ExecuteTime": {
     "end_time": "2018-09-13T15:16:35.078518Z",
     "start_time": "2018-09-13T15:16:35.068378Z"
    }
   },
   "outputs": [],
   "source": [
    "# trial1.plotDataPlane()\n",
    "# trial1.plotInterpPlane()\n",
    "\n",
    "# trial1.fName=variable_folder+'splineInterpolate.vtk'\n",
    "# trial1.saveVTK()\n",
    "\n",
    "# trial1.planeInterp()\n",
    "# trial1.saveVTKPlane()"
   ]
  },
  {
   "cell_type": "code",
   "execution_count": 29,
   "metadata": {
    "ExecuteTime": {
     "end_time": "2018-09-13T15:16:35.303686Z",
     "start_time": "2018-09-13T15:16:35.083827Z"
    }
   },
   "outputs": [],
   "source": [
    "# trial1.compareFocal()"
   ]
  },
  {
   "cell_type": "code",
   "execution_count": 30,
   "metadata": {
    "ExecuteTime": {
     "end_time": "2018-09-13T15:16:35.322874Z",
     "start_time": "2018-09-13T15:16:35.308877Z"
    }
   },
   "outputs": [
    {
     "name": "stdout",
     "output_type": "stream",
     "text": [
      "-0.4775142306293292\n",
      "-0.43147742039982256\n",
      "0.5042380299786912\n"
     ]
    }
   ],
   "source": [
    "# print(np.average(trial1.normalAprox[:,0]))\n",
    "# print(np.average(trial1.normalAprox[:,1]))\n",
    "# print(np.average(trial1.normalAprox[:,2]))"
   ]
  },
  {
   "cell_type": "code",
   "execution_count": 31,
   "metadata": {
    "ExecuteTime": {
     "end_time": "2018-09-13T15:16:35.416416Z",
     "start_time": "2018-09-13T15:16:35.337925Z"
    }
   },
   "outputs": [
    {
     "data": {
      "text/plain": [
       "array([-0.59680794, -0.56076459,  0.57390188])"
      ]
     },
     "execution_count": 31,
     "metadata": {},
     "output_type": "execute_result"
    }
   ],
   "source": [
    "# trial1.normalHat"
   ]
  },
  {
   "cell_type": "code",
   "execution_count": 32,
   "metadata": {
    "ExecuteTime": {
     "end_time": "2018-09-13T15:16:36.022848Z",
     "start_time": "2018-09-13T15:16:35.424201Z"
    }
   },
   "outputs": [
    {
     "data": {
      "image/png": "[encoded data removed]",
      "text/plain": [
       "<Figure size 432x288 with 2 Axes>"
      ]
     },
     "metadata": {},
     "output_type": "display_data"
    }
   ],
   "source": [
    "# plt.scatter(trial1.pS, trial1.pD, c=trial1.theta1*180/np.pi, cmap='seismic', vmin=0, vmax=90, s=5)\n",
    "# plt.colorbar()\n",
    "# plt.show()"
   ]
  },
  {
   "cell_type": "code",
   "execution_count": 33,
   "metadata": {
    "ExecuteTime": {
     "end_time": "2018-09-13T15:16:36.067859Z",
     "start_time": "2018-09-13T15:16:36.029184Z"
    }
   },
   "outputs": [],
   "source": [
    "# trial1.saveVTKPoints(data = trial1.thetaLeast, \n",
    "#                      fName = variable_folder+'thetaTest2.vtk', \n",
    "#                      onlyIfFocal=True)"
   ]
  },
  {
   "cell_type": "markdown",
   "metadata": {},
   "source": [
    "## Re-cluster"
   ]
  },
  {
   "cell_type": "markdown",
   "metadata": {},
   "source": [
    "1.5e3 eps, 5Xnormal distance, 80 min samples, works extremely well. "
   ]
  },
  {
   "cell_type": "markdown",
   "metadata": {},
   "source": [
    "## Second spline inversion"
   ]
  },
  {
   "cell_type": "code",
   "execution_count": 38,
   "metadata": {
    "ExecuteTime": {
     "end_time": "2018-09-13T15:17:22.683335Z",
     "start_time": "2018-09-13T15:17:21.854355Z"
    },
    "scrolled": true
   },
   "outputs": [],
   "source": [
    "\n",
    "\n",
    "\n",
    "# writeVTKPoints(variable_folder+'secondPoints.vtk', x2, y2, z2, x2*0)"
   ]
  },
  {
   "cell_type": "code",
   "execution_count": 39,
   "metadata": {
    "ExecuteTime": {
     "end_time": "2018-09-13T15:17:43.503725Z",
     "start_time": "2018-09-13T15:17:23.528200Z"
    }
   },
   "outputs": [
    {
     "name": "stderr",
     "output_type": "stream",
     "text": [
      "/home/brennan/anaconda3/lib/python3.6/site-packages/scipy/interpolate/fitpack2.py:1119: UserWarning: \n",
      "The coefficients of the spline returned have been computed as the\n",
      "minimal norm least-squares solution of a (numerically) rank deficient\n",
      "system (deficiency=81). If deficiency is large, the results may be\n",
      "inaccurate. Deficiency may strongly depend on the value of eps.\n",
      "  warnings.warn(message)\n"
     ]
    }
   ],
   "source": []
  },
  {
   "cell_type": "code",
   "execution_count": 45,
   "metadata": {
    "ExecuteTime": {
     "end_time": "2018-09-13T15:18:40.137383Z",
     "start_time": "2018-09-13T15:18:40.078698Z"
    }
   },
   "outputs": [],
   "source": []
  },
  {
   "cell_type": "code",
   "execution_count": null,
   "metadata": {
    "ExecuteTime": {
     "end_time": "2018-09-13T15:18:45.894136Z",
     "start_time": "2018-09-13T15:18:40.918563Z"
    }
   },
   "outputs": [],
   "source": []
  },
  {
   "cell_type": "code",
   "execution_count": null,
   "metadata": {
    "ExecuteTime": {
     "end_time": "2018-09-19T17:32:42.352293Z",
     "start_time": "2018-09-19T17:32:39.640851Z"
    }
   },
   "outputs": [],
   "source": []
  },
  {
   "cell_type": "code",
   "execution_count": null,
   "metadata": {
    "ExecuteTime": {
     "end_time": "2018-09-19T17:32:42.352293Z",
     "start_time": "2018-09-19T17:32:39.640851Z"
    }
   },
   "outputs": [],
   "source": [
    "\n"
   ]
  },
  {
   "cell_type": "code",
   "execution_count": 1,
   "metadata": {
    "ExecuteTime": {
     "end_time": "2018-09-19T17:32:42.352293Z",
     "start_time": "2018-09-19T17:32:39.640851Z"
    }
   },
   "outputs": [
    {
     "data": {
      "text/html": [
       "<script>requirejs.config({paths: { 'plotly': ['https://cdn.plot.ly/plotly-latest.min']},});if(!window.Plotly) {{require(['plotly'],function(plotly) {window.Plotly=plotly;});}}</script>"
      ],
      "text/vnd.plotly.v1+html": [
       "<script>requirejs.config({paths: { 'plotly': ['https://cdn.plot.ly/plotly-latest.min']},});if(!window.Plotly) {{require(['plotly'],function(plotly) {window.Plotly=plotly;});}}</script>"
      ]
     },
     "metadata": {},
     "output_type": "display_data"
    }
   ],
   "source": [
    "trial.surfacePlotThing = surfacePlotThing\n",
    "trial.surfacePlotThing(trial, otherx=db2.x[~boo], othery=db2.y[~boo], otherz=db2.z[~boo])"
   ]
  },
  {
   "cell_type": "code",
   "execution_count": null,
   "metadata": {
    "ExecuteTime": {
     "end_time": "2018-09-13T15:16:47.599600Z",
     "start_time": "2018-09-13T15:16:09.709Z"
    }
   },
   "outputs": [],
   "source": []
  },
  {
   "cell_type": "code",
   "execution_count": null,
   "metadata": {
    "ExecuteTime": {
     "end_time": "2018-09-13T15:16:47.605671Z",
     "start_time": "2018-09-13T15:16:09.741Z"
    }
   },
   "outputs": [],
   "source": []
  },
  {
   "cell_type": "code",
   "execution_count": null,
   "metadata": {
    "ExecuteTime": {
     "end_time": "2018-09-13T15:16:47.608843Z",
     "start_time": "2018-09-13T15:16:09.754Z"
    }
   },
   "outputs": [],
   "source": []
  },
  {
   "cell_type": "code",
   "execution_count": null,
   "metadata": {
    "ExecuteTime": {
     "end_time": "2018-09-13T15:16:47.611326Z",
     "start_time": "2018-09-13T15:16:09.770Z"
    }
   },
   "outputs": [],
   "source": [
    "# trial.saveVTKPoints(data=trial.thetaLeast*180/np.pi, fName=variable_folder+'focalsurfaceangle.vtk', onlyIfFocal=True)"
   ]
  },
  {
   "cell_type": "markdown",
   "metadata": {},
   "source": [
    "## Prep to go back to slip inversion"
   ]
  },
  {
   "cell_type": "markdown",
   "metadata": {},
   "source": [
    "## Test Code"
   ]
  }
 ],
 "metadata": {
  "kernelspec": {
   "display_name": "Python 3",
   "language": "python",
   "name": "python3"
  },
  "language_info": {
   "codemirror_mode": {
    "name": "ipython",
    "version": 3
   },
   "file_extension": ".py",
   "mimetype": "text/x-python",
   "name": "python",
   "nbconvert_exporter": "python",
   "pygments_lexer": "ipython3",
   "version": "3.6.5"
  },
  "toc": {
   "base_numbering": 1,
   "nav_menu": {},
   "number_sections": true,
   "sideBar": true,
   "skip_h1_title": false,
   "title_cell": "Table of Contents",
   "title_sidebar": "Contents",
   "toc_cell": false,
   "toc_position": {},
   "toc_section_display": true,
   "toc_window_display": false
  },
  "varInspector": {
   "cols": {
    "lenName": 16,
    "lenType": 16,
    "lenVar": 40
   },
   "kernels_config": {
    "python": {
     "delete_cmd_postfix": "",
     "delete_cmd_prefix": "del ",
     "library": "var_list.py",
     "varRefreshCmd": "print(var_dic_list())"
    },
    "r": {
     "delete_cmd_postfix": ") ",
     "delete_cmd_prefix": "rm(",
     "library": "var_list.r",
     "varRefreshCmd": "cat(var_dic_list()) "
    }
   },
   "types_to_exclude": [
    "module",
    "function",
    "builtin_function_or_method",
    "instance",
    "_Feature"
   ],
   "window_display": false
  }
 },
 "nbformat": 4,
 "nbformat_minor": 2
}
