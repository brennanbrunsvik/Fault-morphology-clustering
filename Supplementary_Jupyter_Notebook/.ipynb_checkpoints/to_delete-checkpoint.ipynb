{
 "cells": [
  {
   "cell_type": "code",
   "execution_count": 4,
   "metadata": {},
   "outputs": [],
   "source": [
    "from types import MethodType\n",
    "\n",
    "class A(object):\n",
    "    def m(self):\n",
    "        print('aaa')\n",
    "\n",
    "a = A()\n",
    "\n",
    "def new_m(self):\n",
    "    print('bbb')\n",
    "\n",
    "a.m = MethodType(new_m, a)"
   ]
  },
  {
   "cell_type": "code",
   "execution_count": 15,
   "metadata": {},
   "outputs": [
    {
     "name": "stdout",
     "output_type": "stream",
     "text": [
      "initial fun1\n",
      "second fun2\n",
      "initial fun1\n"
     ]
    }
   ],
   "source": [
    "from types import MethodType\n",
    "\n",
    "class classy:\n",
    "    def fun1(self):\n",
    "        print('initial fun1')\n",
    "        \n",
    "instance = classy()\n",
    "instance.fun1()\n",
    "\n",
    "def fun2(self):\n",
    "    print('second fun2')\n",
    "    \n",
    "# instance.fun1 = MethodType(fun2, instance)\n",
    "instance.fun2 = MethodType(fun2, instance)\n",
    "instance.fun2()\n",
    "instance.fun1()"
   ]
  }
 ],
 "metadata": {
  "kernelspec": {
   "display_name": "Python 3",
   "language": "python",
   "name": "python3"
  },
  "language_info": {
   "codemirror_mode": {
    "name": "ipython",
    "version": 3
   },
   "file_extension": ".py",
   "mimetype": "text/x-python",
   "name": "python",
   "nbconvert_exporter": "python",
   "pygments_lexer": "ipython3",
   "version": "3.7.1"
  }
 },
 "nbformat": 4,
 "nbformat_minor": 2
}
