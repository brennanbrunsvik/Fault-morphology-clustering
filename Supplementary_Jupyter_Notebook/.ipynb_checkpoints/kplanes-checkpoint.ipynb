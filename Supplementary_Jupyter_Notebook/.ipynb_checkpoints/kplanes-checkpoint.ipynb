{
 "cells": [
  {
   "cell_type": "markdown",
   "metadata": {
    "heading_collapsed": true
   },
   "source": [
    "#"
   ]
  },
  {
   "cell_type": "code",
   "execution_count": 41,
   "metadata": {
    "ExecuteTime": {
     "end_time": "2019-02-13T20:37:36.683541Z",
     "start_time": "2019-02-13T20:37:36.677491Z"
    },
    "hidden": true
   },
   "outputs": [],
   "source": [
    "import numpy as np"
   ]
  },
  {
   "cell_type": "code",
   "execution_count": 42,
   "metadata": {
    "ExecuteTime": {
     "end_time": "2019-02-13T20:37:36.971105Z",
     "start_time": "2019-02-13T20:37:36.959838Z"
    },
    "hidden": true
   },
   "outputs": [],
   "source": [
    "def initPlanes(k):\n",
    "    a = np.zeros(k)\n",
    "    b = np.zeros(k)\n",
    "    c = np.ones(k)\n",
    "    \n",
    "    x0 = np.zeros(k)\n",
    "    y0 = np.zeros(k)\n",
    "    z0 = np.linspace(-1, 1, k)\n",
    "    \n",
    "    return a, b, c, x0, y0, z0"
   ]
  },
  {
   "cell_type": "code",
   "execution_count": 51,
   "metadata": {
    "ExecuteTime": {
     "end_time": "2019-02-13T20:41:06.534653Z",
     "start_time": "2019-02-13T20:41:06.522686Z"
    },
    "hidden": true
   },
   "outputs": [],
   "source": [
    "points = 1000\n",
    "k = 20 # number of planes\n",
    "\n",
    "x = np.random.rand(points)\n",
    "y = np.random.rand(points)\n",
    "z = np.random.rand(points)\n",
    "\n",
    "\n",
    "dists = np.zeros( (points, k) )\n",
    "\n",
    "a, b, c, x0, y0, z0 = initPlanes(k)"
   ]
  },
  {
   "cell_type": "code",
   "execution_count": 59,
   "metadata": {
    "ExecuteTime": {
     "end_time": "2019-02-13T20:42:22.250582Z",
     "start_time": "2019-02-13T20:42:22.219174Z"
    },
    "hidden": true
   },
   "outputs": [],
   "source": [
    "for plane in range(k):\n",
    "    d = -(x0 * a + y0 * b + z0 * c)\n",
    "    dists[:, plane] = a[plane]*x + b[plane]*y + c[plane]*z  + d[plane]\n",
    "dists = np.abs(dists)\n",
    "ps = dists.argmin(axis=1)"
   ]
  },
  {
   "cell_type": "markdown",
   "metadata": {
    "ExecuteTime": {
     "end_time": "2019-02-13T19:44:57.202504Z",
     "start_time": "2019-02-13T19:44:57.196013Z"
    },
    "heading_collapsed": true
   },
   "source": [
    "# from k-plane clustering paper"
   ]
  },
  {
   "cell_type": "code",
   "execution_count": null,
   "metadata": {
    "hidden": true
   },
   "outputs": [],
   "source": []
  },
  {
   "cell_type": "code",
   "execution_count": null,
   "metadata": {
    "hidden": true
   },
   "outputs": [],
   "source": []
  }
 ],
 "metadata": {
  "kernelspec": {
   "display_name": "Python 3",
   "language": "python",
   "name": "python3"
  },
  "language_info": {
   "codemirror_mode": {
    "name": "ipython",
    "version": 3
   },
   "file_extension": ".py",
   "mimetype": "text/x-python",
   "name": "python",
   "nbconvert_exporter": "python",
   "pygments_lexer": "ipython3",
   "version": "3.6.5"
  }
 },
 "nbformat": 4,
 "nbformat_minor": 2
}
