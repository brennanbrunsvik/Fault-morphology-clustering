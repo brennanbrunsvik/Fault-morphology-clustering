{
 "cells": [
  {
   "cell_type": "code",
   "execution_count": 4,
   "metadata": {
    "ExecuteTime": {
     "end_time": "2018-09-29T17:10:05.967956Z",
     "start_time": "2018-09-29T17:10:05.940437Z"
    }
   },
   "outputs": [
    {
     "ename": "ModuleNotFoundError",
     "evalue": "No module named 'mpl_toolkits.basemap'",
     "output_type": "error",
     "traceback": [
      "\u001b[0;31m---------------------------------------------------------------------------\u001b[0m",
      "\u001b[0;31mModuleNotFoundError\u001b[0m                       Traceback (most recent call last)",
      "\u001b[0;32m<ipython-input-4-ba508074cd08>\u001b[0m in \u001b[0;36m<module>\u001b[0;34m()\u001b[0m\n\u001b[1;32m      2\u001b[0m \u001b[0;32mimport\u001b[0m \u001b[0mmatplotlib\u001b[0m\u001b[0;34m.\u001b[0m\u001b[0mpyplot\u001b[0m \u001b[0;32mas\u001b[0m \u001b[0mplt\u001b[0m\u001b[0;34m\u001b[0m\u001b[0m\n\u001b[1;32m      3\u001b[0m \u001b[0;32mimport\u001b[0m \u001b[0mnumpy\u001b[0m \u001b[0;32mas\u001b[0m \u001b[0mnp\u001b[0m\u001b[0;34m\u001b[0m\u001b[0m\n\u001b[0;32m----> 4\u001b[0;31m \u001b[0;32mimport\u001b[0m \u001b[0mmpl_toolkits\u001b[0m\u001b[0;34m.\u001b[0m\u001b[0mbasemap\u001b[0m \u001b[0;32mas\u001b[0m \u001b[0mbm\u001b[0m\u001b[0;34m\u001b[0m\u001b[0m\n\u001b[0m\u001b[1;32m      5\u001b[0m \u001b[0;32mfrom\u001b[0m \u001b[0mnetCDF4\u001b[0m \u001b[0;32mimport\u001b[0m \u001b[0mDataset\u001b[0m\u001b[0;34m\u001b[0m\u001b[0m\n\u001b[1;32m      6\u001b[0m \u001b[0;32mfrom\u001b[0m \u001b[0mmpl_toolkits\u001b[0m\u001b[0;34m.\u001b[0m\u001b[0mmplot3d\u001b[0m \u001b[0;32mimport\u001b[0m \u001b[0mAxes3D\u001b[0m\u001b[0;34m\u001b[0m\u001b[0m\n",
      "\u001b[0;31mModuleNotFoundError\u001b[0m: No module named 'mpl_toolkits.basemap'"
     ]
    }
   ],
   "source": [
    "import time \n",
    "import matplotlib.pyplot as plt\n",
    "import numpy as np\n",
    "import mpl_toolkits.basemap as bm\n",
    "from netCDF4 import Dataset\n",
    "from mpl_toolkits.mplot3d import Axes3D\n",
    "import os"
   ]
  },
  {
   "cell_type": "code",
   "execution_count": null,
   "metadata": {
    "ExecuteTime": {
     "end_time": "2018-09-29T17:09:47.064463Z",
     "start_time": "2018-09-29T17:09:46.621Z"
    }
   },
   "outputs": [],
   "source": [
    "def loadData2(minute, minLat, minLon, maxLat, maxLon): #Had difficulty finding accessible data\n",
    "    if minute == 5:\n",
    "        url = 'http://ferret.pmel.noaa.gov/pmel/thredds/dodsC/data/PMEL/etopo5.nc'\n",
    "    if minute !=5:\n",
    "        url = 'http://ferret.pmel.noaa.gov/pmel/thredds/dodsC/data/PMEL/smith_sandwell_topo_v8_2.nc'\n",
    "        \n",
    "    topoData = Dataset(url)\n",
    "    timeLoad1 = time.clock()\n",
    "    \n",
    "    lons = topoData.variables['ETOPO05_X'][:]#start of with all lats and lons for boolean indexing the topo data\n",
    "    lats = topoData.variables['ETOPO05_Y'][:]\n",
    "    topo = topoData.variables['ROSE'][(lats>minLat)*(lats<maxLat),(lons>minLon)*(lons<maxLon)]\n",
    "    lons = lons[(lons>minLon)*(lons<maxLon)]#get rid of extra data\n",
    "    lats = lats[(lats>minLat)*(lats<maxLat)]\n",
    "    \n",
    "    timeLoad2 = time.clock()\n",
    "    loadTime = timeLoad2 - timeLoad1\n",
    "    print('done loading after', loadTime)\n",
    "    \n",
    "    return topo, lons, lats"
   ]
  },
  {
   "cell_type": "code",
   "execution_count": 2,
   "metadata": {
    "ExecuteTime": {
     "end_time": "2018-09-29T17:09:47.322030Z",
     "start_time": "2018-09-29T17:09:47.305322Z"
    }
   },
   "outputs": [],
   "source": [
    "def getTopo(topo, lonT, latT, lonP, latP):\n",
    "    topoInterp = np.zeros( (lonP.size) )  \n",
    "    \n",
    "    lonPlusAllInd = lonT>lonP\n",
    "    lonPlusAll = lonT[lonPlusAllInd]\n",
    "    lonPlus = lonPlusAll[0]\n",
    "    lonPlusI = lonT == lonPlus\n",
    "\n",
    "    lonMinAllInd = lonT<lonP\n",
    "    lonMinAll = lonT[lonMinAllInd]\n",
    "    lonMin = lonMinAll[-1]\n",
    "    lonMinI = lonT == lonMin\n",
    "\n",
    "    lonNearestI = lonPlusI+lonMinI\n",
    "    \n",
    "    latPlusAllInd = latT>latP\n",
    "    latPlusAll = latT[latPlusAllInd]\n",
    "    latPlus = latPlusAll[0]\n",
    "    latPlusI = latT == latPlus\n",
    "    \n",
    "    latMinAllInd = latT<latP\n",
    "    latMinAll = latT[latMinAllInd]\n",
    "    latMin = latMinAll[-1]\n",
    "    latMinI = latT == latMin\n",
    "    \n",
    "    latNearestI = latPlusI+ latMinI\n",
    "    \n",
    "    finalI = np.outer(latNearestI, lonNearestI)\n",
    "    \n",
    "    topoVals = topo[finalI]\n",
    "    \n",
    "    topoReturn = np.average(topoVals)\n",
    "    \n",
    "    return topoReturn"
   ]
  },
  {
   "cell_type": "code",
   "execution_count": 3,
   "metadata": {
    "ExecuteTime": {
     "end_time": "2018-09-29T17:09:53.462501Z",
     "start_time": "2018-09-29T17:09:53.436228Z"
    }
   },
   "outputs": [
    {
     "ename": "NameError",
     "evalue": "name 'loadData2' is not defined",
     "output_type": "error",
     "traceback": [
      "\u001b[0;31m---------------------------------------------------------------------------\u001b[0m",
      "\u001b[0;31mNameError\u001b[0m                                 Traceback (most recent call last)",
      "\u001b[0;32m<ipython-input-3-f7ea5f4ce6a1>\u001b[0m in \u001b[0;36m<module>\u001b[0;34m()\u001b[0m\n\u001b[1;32m      4\u001b[0m \u001b[0mmaxLon\u001b[0m \u001b[0;34m=\u001b[0m \u001b[0;36m15\u001b[0m\u001b[0;34m\u001b[0m\u001b[0m\n\u001b[1;32m      5\u001b[0m \u001b[0;34m\u001b[0m\u001b[0m\n\u001b[0;32m----> 6\u001b[0;31m \u001b[0mtopo\u001b[0m\u001b[0;34m,\u001b[0m \u001b[0mlonTopo\u001b[0m\u001b[0;34m,\u001b[0m \u001b[0mlatTopo\u001b[0m \u001b[0;34m=\u001b[0m \u001b[0mloadData2\u001b[0m\u001b[0;34m(\u001b[0m\u001b[0;36m5\u001b[0m\u001b[0;34m,\u001b[0m \u001b[0mminLat\u001b[0m\u001b[0;34m,\u001b[0m \u001b[0mminLon\u001b[0m\u001b[0;34m,\u001b[0m \u001b[0mmaxLat\u001b[0m\u001b[0;34m,\u001b[0m \u001b[0mmaxLon\u001b[0m\u001b[0;34m)\u001b[0m\u001b[0;34m\u001b[0m\u001b[0m\n\u001b[0m",
      "\u001b[0;31mNameError\u001b[0m: name 'loadData2' is not defined"
     ]
    }
   ],
   "source": [
    "minLat = 40\n",
    "maxLat = 44\n",
    "minLon = 12\n",
    "maxLon = 15\n",
    "\n",
    "topo, lonTopo, latTopo = loadData2(5, minLat, minLon, maxLat, maxLon)"
   ]
  },
  {
   "cell_type": "code",
   "execution_count": 5,
   "metadata": {
    "ExecuteTime": {
     "end_time": "2018-06-14T20:21:41.821634Z",
     "start_time": "2018-06-14T20:21:41.720606Z"
    }
   },
   "outputs": [],
   "source": [
    "# plt.imshow(topo, origin = 'lower', extent = (lons[0], lons[-1], lats[0], lats[-1]))#, interpolation = 'bilinear')\n",
    "# plt.colorbar()\n",
    "# plt.show()"
   ]
  }
 ],
 "metadata": {
  "kernelspec": {
   "display_name": "Python 3",
   "language": "python",
   "name": "python3"
  },
  "language_info": {
   "codemirror_mode": {
    "name": "ipython",
    "version": 3
   },
   "file_extension": ".py",
   "mimetype": "text/x-python",
   "name": "python",
   "nbconvert_exporter": "python",
   "pygments_lexer": "ipython3",
   "version": "3.6.5"
  },
  "toc": {
   "base_numbering": 1,
   "nav_menu": {},
   "number_sections": true,
   "sideBar": true,
   "skip_h1_title": false,
   "title_cell": "Table of Contents",
   "title_sidebar": "Contents",
   "toc_cell": false,
   "toc_position": {},
   "toc_section_display": true,
   "toc_window_display": false
  },
  "varInspector": {
   "cols": {
    "lenName": 16,
    "lenType": 16,
    "lenVar": 40
   },
   "kernels_config": {
    "python": {
     "delete_cmd_postfix": "",
     "delete_cmd_prefix": "del ",
     "library": "var_list.py",
     "varRefreshCmd": "print(var_dic_list())"
    },
    "r": {
     "delete_cmd_postfix": ") ",
     "delete_cmd_prefix": "rm(",
     "library": "var_list.r",
     "varRefreshCmd": "cat(var_dic_list()) "
    }
   },
   "types_to_exclude": [
    "module",
    "function",
    "builtin_function_or_method",
    "instance",
    "_Feature"
   ],
   "window_display": false
  }
 },
 "nbformat": 4,
 "nbformat_minor": 2
}
