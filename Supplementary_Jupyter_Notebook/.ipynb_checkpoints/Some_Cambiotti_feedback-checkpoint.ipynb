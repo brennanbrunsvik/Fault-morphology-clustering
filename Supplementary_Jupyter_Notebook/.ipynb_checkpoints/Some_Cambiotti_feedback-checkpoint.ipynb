{
 "cells": [
  {
   "cell_type": "markdown",
   "metadata": {
    "heading_collapsed": true
   },
   "source": [
    "# Imports"
   ]
  },
  {
   "cell_type": "code",
   "execution_count": 1,
   "metadata": {
    "ExecuteTime": {
     "end_time": "2018-12-01T16:19:04.102070Z",
     "start_time": "2018-12-01T16:18:57.105107Z"
    },
    "hidden": true
   },
   "outputs": [],
   "source": [
    "import matplotlib.pyplot as plt\n",
    "import numpy as np\n",
    "import scipy.special ### New\n",
    "import scipy.interpolate\n",
    "from okada_wrapper import dc3dwrapper\n",
    "from scipy.optimize import minimize"
   ]
  },
  {
   "cell_type": "markdown",
   "metadata": {
    "ExecuteTime": {
     "end_time": "2018-11-29T20:08:34.905484Z",
     "start_time": "2018-11-29T20:08:34.896728Z"
    },
    "heading_collapsed": true
   },
   "source": [
    "# Yakubi"
   ]
  },
  {
   "cell_type": "code",
   "execution_count": 2,
   "metadata": {
    "ExecuteTime": {
     "end_time": "2018-12-01T16:19:07.325387Z",
     "start_time": "2018-12-01T16:19:07.276985Z"
    },
    "hidden": true
   },
   "outputs": [],
   "source": [
    "def getG(gshape = None):\n",
    "    \"\"\"placeholder\"\"\"\n",
    "    G = np.ones(gshape)\n",
    "    for i in range(gshape[0]):\n",
    "        for j in range(gshape[1]):\n",
    "            G[i, j] += np.random.rand()\n",
    "    return G\n",
    "def getH(hshape = None):\n",
    "    \"\"\"placeholder\"\"\"\n",
    "    H = np.ones(hshape)\n",
    "    for i in range(hshape[0]):\n",
    "        for j in range(hshape[1]):\n",
    "            H[i, j] += np.random.rand()\n",
    "    return H\n",
    "def getEInv(errors):\n",
    "    \"\"\"probably a placeholder. \n",
    "    Assumes no relation between seperate measurements.\"\"\"\n",
    "    points = errors.size\n",
    "    E = np.zeros((points, points))\n",
    "    for i in range(points):\n",
    "        E[i, i] = errors[i]**2\n",
    "        if E[i, i] == 0:\n",
    "            E[i, i] = 0.01\n",
    "    EInv = np.linalg.inv(E)\n",
    "    return EInv\n",
    "\n",
    "def getSplineCov(sigma, H, EInv, alpha, G):\n",
    "    \"\"\"\n",
    "    EQ 42 and 53\n",
    "    \"\"\"\n",
    "    precision = getPrecision(H, EInv, alpha, G)\n",
    "    C = sigma**2 * np.linalg.inv(precision)\n",
    "    return C\n",
    "\n",
    "def getPrecision(H, EInv, alpha, G):\n",
    "    \"\"\"\n",
    "    Inverse of covariance, but not scaled by sigma. \n",
    "    Comes up frequently.\n",
    "    \"\"\"\n",
    "    alphaG = alpha ** 2 * G\n",
    "    E1H = np.dot( EInv, H)\n",
    "    HTE1H = np.dot(H.T, E1H)\n",
    "    precision = HTE1H + alphaG\n",
    "    return precision\n",
    "def inverta(H, EInv, alpha, G, d):\n",
    "    \"\"\"\n",
    "    EQ 39 and 50\n",
    "    \"\"\"\n",
    "    E1d = np.dot(EInv, d)\n",
    "    HTE1d = np.dot(H.T, E1d)\n",
    "    \n",
    "    precision = getPrecision(H, EInv, alpha, G)\n",
    "    precInv = np.linalg.inv(precision)\n",
    "    \n",
    "    a = np.dot(precInv, HTE1d)\n",
    "    \n",
    "    return a\n",
    "    \n",
    "def sCostFunction(a, d, H, EInv, alpha, G):\n",
    "    \"\"\"\n",
    "    EQ 40\n",
    "    \"\"\"\n",
    "    err = d - np.dot(H, a) \n",
    "    left = np.dot(err.T, np.dot(EInv, err))\n",
    "    right = alpha ** 2 * np.dot(a.T, np.dot(G, a) )\n",
    "    a = left + right\n",
    "    return a\n",
    "\n",
    "class invertAlpha:\n",
    "    \"\"\"\n",
    "    EQ 49 minimizer\n",
    "    \"\"\"\n",
    "    def __init__(self, alphaStart, N, P, M, a, H, EInv, G, d):\n",
    "        self.alphaStart = alphaStart\n",
    "        self.N = N \n",
    "        self.P = P\n",
    "        self.M = M\n",
    "        self.a = a\n",
    "        self.H = H\n",
    "        self.EInv = EInv\n",
    "        self.G = G\n",
    "        self.d = d\n",
    "        \n",
    "    def getABIC(self, alpha):#, N, P, M, a, H, EInv, G):\n",
    "        \"\"\"\n",
    "        EQ 49. To be solved numerically. \n",
    "        Returns ABIC\n",
    "        \"\"\"\n",
    "#         print(alpha)\n",
    "        cost = sCostFunction(self.a, self.d, self.H, self.EInv, alpha, self.G)\n",
    "        term1 = (self.N + self.P - self.M) * np.log10( cost )\n",
    "\n",
    "        term2 = -self.P * np.log10(alpha ** 2)\n",
    "\n",
    "        precision = getPrecision(self.H, self.EInv, alpha, self.G)\n",
    "        absdet = np.abs( np.linalg.det(precision) )\n",
    "        term3 = np.log10(absdet)\n",
    "\n",
    "        ABIC = term1 + term2 + term3\n",
    "        return ABIC\n",
    "    \n",
    "    def numericalAlpha(self, alphaStart=None):\n",
    "        if alphaStart is None:\n",
    "            alphaStart = self.alphaStart\n",
    "        self.alphaMin = minimize(self.getABIC, alphaStart, method = 'cg')\n",
    "        return self.alphaMin.x\n",
    "        \n",
    "def invertSigma(alpha, a, d, H, G, EInv, N, P, M): #d, H, EInv, alpha, G\n",
    "    \"\"\"EQ 48 and 51\"\"\"\n",
    "    var = sCostFunction(a, d, H, EInv, alpha, G) / (N + P - M)\n",
    "    sigma = np.sqrt(var)     \n",
    "    return sigma\n",
    "    "
   ]
  },
  {
   "cell_type": "code",
   "execution_count": 3,
   "metadata": {
    "ExecuteTime": {
     "end_time": "2018-12-01T16:19:09.236559Z",
     "start_time": "2018-12-01T16:19:09.217037Z"
    },
    "hidden": true
   },
   "outputs": [
    {
     "data": {
      "text/plain": [
       "'\\nIndexing Rules.\\nk{t}: (size=2kl) j is 1 or 2, k (strike), l (dip). \\n        t = (j - 1)KL + (k - 1)L + l\\nH{p, t}: \\n    p (size=3N) is index for point on ground, contains vertical and both horizontal measurements. \\n        p = (i-1)N1 + p         if i = 1 or 2 (x or y)\\n        p = (i-1)N1 + (p-N1)    if i = 3 (z)\\n    t (size=M=2kl) is index for knot. Contains ss and ds coeff for each k and l. \\nG{} MxM = 2lk X 2lk\\n    \\n\\n.\\nI should be consistent. \\n'"
      ]
     },
     "execution_count": 3,
     "metadata": {},
     "output_type": "execute_result"
    }
   ],
   "source": [
    "# d, e, and Ha work with the following indexing\n",
    "# one dimensional. 0-p; p+(0-p); 2p+(0-p)\n",
    "# add z * points to decide starting point in array, z = 0 for east, 1 for north, 2 for vertical\n",
    "\"\"\"\n",
    "Indexing Rules.\n",
    "k{t}: (size=2kl) j is 1 or 2, k (strike), l (dip). \n",
    "        t = (j - 1)KL + (k - 1)L + l\n",
    "H{p, t}: \n",
    "    p (size=3N) is index for point on ground, contains vertical and both horizontal measurements. \n",
    "        p = (i-1)N1 + p         if i = 1 or 2 (x or y)\n",
    "        p = (i-1)N1 + (p-N1)    if i = 3 (z)\n",
    "    t (size=M=2kl) is index for knot. Contains ss and ds coeff for each k and l. \n",
    "G{} MxM = 2lk X 2lk\n",
    "    \n",
    "\n",
    ".\n",
    "I should be consistent. \n",
    "\"\"\""
   ]
  },
  {
   "cell_type": "code",
   "execution_count": 4,
   "metadata": {
    "ExecuteTime": {
     "end_time": "2018-12-01T16:19:11.459579Z",
     "start_time": "2018-12-01T16:19:11.447661Z"
    },
    "hidden": true
   },
   "outputs": [],
   "source": [
    "points = 5 # temporary\n",
    "\n",
    "k = 3\n",
    "l = 3\n",
    "knots = 2 * k * l # temporary\n",
    "\n",
    "px = np.arange(points) # temporary\n",
    "py = np.arange(10, 10 + points) # temporary\n",
    "pz = np.arange(20, 20 + points) # temporary\n",
    "\n",
    "\n",
    "d = np.zeros(points*3) # Permanent\n",
    "inds = np.arange(points)\n",
    "d[inds] = px\n",
    "d[inds+points] = py\n",
    "d[inds+2*points] = pz\n",
    "# reshapes into (points, 3) USING order = 'F'"
   ]
  },
  {
   "cell_type": "code",
   "execution_count": 11,
   "metadata": {
    "ExecuteTime": {
     "end_time": "2018-12-01T16:20:55.897360Z",
     "start_time": "2018-12-01T16:20:55.524769Z"
    },
    "hidden": true
   },
   "outputs": [
    {
     "name": "stderr",
     "output_type": "stream",
     "text": [
      "/home/brennan/anaconda3/lib/python3.6/site-packages/ipykernel_launcher.py:91: RuntimeWarning: invalid value encountered in log10\n",
      "/home/brennan/anaconda3/lib/python3.6/site-packages/numpy/linalg/linalg.py:1874: RuntimeWarning: overflow encountered in det\n",
      "  r = _umath_linalg.det(a, signature=signature)\n"
     ]
    },
    {
     "name": "stdout",
     "output_type": "stream",
     "text": [
      "[[nan nan nan nan nan nan nan nan nan nan nan nan nan nan nan nan nan nan]\n",
      " [nan nan nan nan nan nan nan nan nan nan nan nan nan nan nan nan nan nan]\n",
      " [nan nan nan nan nan nan nan nan nan nan nan nan nan nan nan nan nan nan]\n",
      " [nan nan nan nan nan nan nan nan nan nan nan nan nan nan nan nan nan nan]\n",
      " [nan nan nan nan nan nan nan nan nan nan nan nan nan nan nan nan nan nan]\n",
      " [nan nan nan nan nan nan nan nan nan nan nan nan nan nan nan nan nan nan]\n",
      " [nan nan nan nan nan nan nan nan nan nan nan nan nan nan nan nan nan nan]\n",
      " [nan nan nan nan nan nan nan nan nan nan nan nan nan nan nan nan nan nan]\n",
      " [nan nan nan nan nan nan nan nan nan nan nan nan nan nan nan nan nan nan]\n",
      " [nan nan nan nan nan nan nan nan nan nan nan nan nan nan nan nan nan nan]\n",
      " [nan nan nan nan nan nan nan nan nan nan nan nan nan nan nan nan nan nan]\n",
      " [nan nan nan nan nan nan nan nan nan nan nan nan nan nan nan nan nan nan]\n",
      " [nan nan nan nan nan nan nan nan nan nan nan nan nan nan nan nan nan nan]\n",
      " [nan nan nan nan nan nan nan nan nan nan nan nan nan nan nan nan nan nan]\n",
      " [nan nan nan nan nan nan nan nan nan nan nan nan nan nan nan nan nan nan]\n",
      " [nan nan nan nan nan nan nan nan nan nan nan nan nan nan nan nan nan nan]\n",
      " [nan nan nan nan nan nan nan nan nan nan nan nan nan nan nan nan nan nan]\n",
      " [nan nan nan nan nan nan nan nan nan nan nan nan nan nan nan nan nan nan]]\n"
     ]
    },
    {
     "name": "stderr",
     "output_type": "stream",
     "text": [
      "/home/brennan/anaconda3/lib/python3.6/site-packages/ipykernel_launcher.py:91: RuntimeWarning: invalid value encountered in log10\n",
      "/home/brennan/anaconda3/lib/python3.6/site-packages/ipykernel_launcher.py:91: RuntimeWarning: invalid value encountered in log10\n",
      "/home/brennan/anaconda3/lib/python3.6/site-packages/ipykernel_launcher.py:111: RuntimeWarning: invalid value encountered in sqrt\n"
     ]
    }
   ],
   "source": [
    "errors = d.copy() # temporary\n",
    "EInv = getEInv(errors) # Permanent\n",
    "\n",
    "H = getH((points * 3, knots)) # modify, do only once. \n",
    "G = getG((knots, knots)) # modify, do only once\n",
    "\n",
    "alphaStart = 1 # temporary. Could try a few others. \n",
    "sigmaStart = 1 # temporary. Could try a few others. \n",
    "\n",
    "M = knots\n",
    "N = points * 3\n",
    "P = np.linalg.matrix_rank(G)\n",
    "\n",
    "a = inverta(H, EInv, alphaStart, G, d)\n",
    "inversion = invertAlpha(alphaStart, N, P, M, a, H, EInv, G, d)\n",
    "alphaFinal = inversion.numericalAlpha()\n",
    "sigmaFinal = invertSigma(alphaFinal, a, d, H, G, EInv, N, P, M)\n",
    "\n",
    "aFinal = inverta(H, EInv, alphaFinal, G, d)\n",
    "C = getSplineCov(sigmaFinal, H, EInv, alphaFinal, G)"
   ]
  },
  {
   "cell_type": "code",
   "execution_count": null,
   "metadata": {
    "hidden": true
   },
   "outputs": [],
   "source": []
  },
  {
   "cell_type": "markdown",
   "metadata": {},
   "source": [
    "# My splines"
   ]
  },
  {
   "cell_type": "code",
   "execution_count": 78,
   "metadata": {
    "ExecuteTime": {
     "end_time": "2018-12-01T17:08:54.415643Z",
     "start_time": "2018-12-01T17:08:54.384652Z"
    }
   },
   "outputs": [
    {
     "data": {
      "text/plain": [
       "array(0.02083333)"
      ]
     },
     "execution_count": 78,
     "metadata": {},
     "output_type": "execute_result"
    }
   ],
   "source": [
    "class phiklClass:\n",
    "    def __init__(self, kKnots, lKnots, aj = None):\n",
    "        self.kKnots = kKnots\n",
    "        self.lKnots = lKnots\n",
    "        pass\n",
    "    \n",
    "    def buildBasis(self):\n",
    "        pass\n",
    "   \n",
    "sMin = -1\n",
    "sMax = 1\n",
    "dMin = 1\n",
    "dMax = 1\n",
    "kKnots = np.linspace(sMin, sMax)\n",
    "lKnots = np.linspace(dMin, dMax)\n",
    "phikl = phiklClass(kKnots, lKnots)\n",
    "\n",
    "def bases(center, deltaX, d=0):\n",
    "    \"\"\"d = 0 for normal function\n",
    "    d = n for nth derivative\n",
    "    d = -n for nth integral (or antiderivative. Haven't decided yet.)\"\"\"\n",
    "    if d == 0:\n",
    "        b = scipy.interpolate.BSpline.basis_element(t, extrapolate=False)\n",
    "    elif d > 0:\n",
    "        b = scipy.interpolate.BSpline.basis_element(t, extrapolate=False).derivative(d)\n",
    "    elif d < 0:\n",
    "        b = scipy.interpolate.BSpline.basis_element(t, extrapolate=False).antiderivative(np.abs(d))   \n",
    "        \n",
    "    return b\n",
    "    \n",
    "center = 0\n",
    "deltaX = 1\n",
    "d = 0\n",
    "b = bases(center, deltaX, d)\n",
    "b(1)"
   ]
  },
  {
   "cell_type": "markdown",
   "metadata": {},
   "source": [
    "# Scipy splines and derivatives"
   ]
  },
  {
   "cell_type": "code",
   "execution_count": 19,
   "metadata": {
    "ExecuteTime": {
     "end_time": "2018-12-01T16:28:25.222379Z",
     "start_time": "2018-12-01T16:28:24.862785Z"
    }
   },
   "outputs": [
    {
     "data": {
      "image/png": "[encoded data removed]",
      "text/plain": [
       "<Figure size 432x288 with 1 Axes>"
      ]
     },
     "metadata": {},
     "output_type": "display_data"
    }
   ],
   "source": [
    "t = np.array([-2, -1, 0, 1, 2])-.5\n",
    "b = scipy.interpolate.BSpline.basis_element(t, extrapolate=False)\n",
    "x = np.linspace(-5, 5, 100)\n",
    "y = b(x)\n",
    "plt.plot(x, y)\n",
    "plt.show()"
   ]
  },
  {
   "cell_type": "code",
   "execution_count": 464,
   "metadata": {
    "ExecuteTime": {
     "end_time": "2018-12-01T04:58:23.331773Z",
     "start_time": "2018-12-01T04:58:23.298716Z"
    }
   },
   "outputs": [
    {
     "data": {
      "text/plain": [
       "(10, 10)"
      ]
     },
     "execution_count": 464,
     "metadata": {},
     "output_type": "execute_result"
    }
   ],
   "source": [
    "K = 10\n",
    "L = 10\n",
    "bs = [[scipy.interpolate.BSpline.basis_element(t+i, extrapolate=False) for k in range(K)] for l in range(L)]\n",
    "PHI = np.array(bs)\n",
    "PHI.shape"
   ]
  },
  {
   "cell_type": "code",
   "execution_count": 447,
   "metadata": {
    "ExecuteTime": {
     "end_time": "2018-12-01T04:54:17.121097Z",
     "start_time": "2018-12-01T04:54:15.056404Z"
    }
   },
   "outputs": [
    {
     "data": {
      "image/png": "[encoded data removed]",
      "text/plain": [
       "<Figure size 432x288 with 1 Axes>"
      ]
     },
     "metadata": {},
     "output_type": "display_data"
    }
   ],
   "source": [
    "t1 = np.array([-2, -1, 0, 1, 2])\n",
    "\n",
    "bs = [scipy.interpolate.BSpline.basis_element(t+i, extrapolate=False) for i in range(100)]\n",
    "\n",
    "x = np.linspace(-2, 12, 100)\n",
    "y = x.copy() * 0\n",
    "for i in range(x.size):\n",
    "    for j in range(len(bs)):\n",
    "        thing = bs[j](x)\n",
    "        thing = np.nan_to_num(thing)\n",
    "        y += thing\n",
    "y=y/100  \n",
    "plt.plot(x, y)\n",
    "plt.show()"
   ]
  },
  {
   "cell_type": "code",
   "execution_count": 424,
   "metadata": {
    "ExecuteTime": {
     "end_time": "2018-12-01T04:46:12.568052Z",
     "start_time": "2018-12-01T04:46:11.739384Z"
    }
   },
   "outputs": [
    {
     "data": {
      "image/png": "[encoded data removed]",
      "text/plain": [
       "<Figure size 432x288 with 1 Axes>"
      ]
     },
     "metadata": {},
     "output_type": "display_data"
    }
   ],
   "source": [
    "b = scipy.interpolate.BSpline.basis_element(t, extrapolate=False)\n",
    "b1 = b.derivative(nu = 1)\n",
    "b2 = b.derivative(nu = 2)\n",
    "x = np.linspace(-2, 12, 100)\n",
    "y = b(x)\n",
    "y1 = b1(x)\n",
    "y2 = b2(x)\n",
    "plt.plot(x, y)\n",
    "plt.plot(x, y1)\n",
    "plt.plot(x, y2)\n",
    "plt.show()"
   ]
  },
  {
   "cell_type": "code",
   "execution_count": 378,
   "metadata": {
    "ExecuteTime": {
     "end_time": "2018-11-30T22:25:18.075189Z",
     "start_time": "2018-11-30T22:25:17.650383Z"
    }
   },
   "outputs": [
    {
     "data": {
      "text/plain": [
       "<matplotlib.collections.PathCollection at 0x7f7af7d16e10>"
      ]
     },
     "execution_count": 378,
     "metadata": {},
     "output_type": "execute_result"
    },
    {
     "data": {
      "image/png": "[encoded data removed]",
      "text/plain": [
       "<Figure size 432x288 with 1 Axes>"
      ]
     },
     "metadata": {},
     "output_type": "display_data"
    }
   ],
   "source": [
    "n = 5\n",
    "k = 3\n",
    "t = np.arange(n+k+1)-4\n",
    "c = [ 0, 0, 1, 0, 0]\n",
    "spl = scipy.interpolate.BSpline(t, c, k, extrapolate=False)\n",
    "x = np.linspace(np.amin(t), np.amax(t), 30)\n",
    "y = spl(x)\n",
    "plt.scatter(x, y)"
   ]
  },
  {
   "cell_type": "code",
   "execution_count": 363,
   "metadata": {
    "ExecuteTime": {
     "end_time": "2018-11-30T22:17:52.525706Z",
     "start_time": "2018-11-30T22:17:52.511921Z"
    }
   },
   "outputs": [
    {
     "data": {
      "text/plain": [
       "array([       nan,        nan,        nan,        nan,        nan,\n",
       "              nan,        nan,        nan,        nan,        nan,\n",
       "              nan, 1.03448276, 1.31034483, 1.5862069 , 1.86206897,\n",
       "       2.13793103, 2.4137931 , 2.68965517, 2.96551724,        nan,\n",
       "              nan,        nan,        nan,        nan,        nan,\n",
       "              nan,        nan,        nan,        nan,        nan])"
      ]
     },
     "execution_count": 363,
     "metadata": {},
     "output_type": "execute_result"
    }
   ],
   "source": [
    "y"
   ]
  },
  {
   "cell_type": "code",
   "execution_count": 351,
   "metadata": {
    "ExecuteTime": {
     "end_time": "2018-11-30T21:54:17.785705Z",
     "start_time": "2018-11-30T21:54:17.382997Z"
    }
   },
   "outputs": [
    {
     "data": {
      "text/plain": [
       "<matplotlib.collections.PathCollection at 0x7f7af7f4c048>"
      ]
     },
     "execution_count": 351,
     "metadata": {},
     "output_type": "execute_result"
    },
    {
     "data": {
      "image/png": "[encoded data removed]",
      "text/plain": [
       "<Figure size 432x288 with 1 Axes>"
      ]
     },
     "metadata": {},
     "output_type": "display_data"
    }
   ],
   "source": [
    "k = 3\n",
    "t = (np.arange(9)-4) \n",
    "c = [ 0, 0, 1, 1, 1]\n",
    "spl = scipy.interpolate.BSpline(t, c, k, extrapolate=False)\n",
    "x = np.linspace(-1, 1, 30)\n",
    "y = spl(x)\n",
    "plt.scatter(x, y)"
   ]
  },
  {
   "cell_type": "code",
   "execution_count": 308,
   "metadata": {
    "ExecuteTime": {
     "end_time": "2018-11-30T21:45:51.654500Z",
     "start_time": "2018-11-30T21:45:51.621996Z"
    }
   },
   "outputs": [
    {
     "ename": "TypeError",
     "evalue": "__init__() missing 3 required positional arguments: 't', 'c', and 'k'",
     "output_type": "error",
     "traceback": [
      "\u001b[0;31m---------------------------------------------------------------------------\u001b[0m",
      "\u001b[0;31mTypeError\u001b[0m                                 Traceback (most recent call last)",
      "\u001b[0;32m<ipython-input-308-e1df0961807b>\u001b[0m in \u001b[0;36m<module>\u001b[0;34m()\u001b[0m\n\u001b[1;32m      1\u001b[0m \u001b[0mk\u001b[0m \u001b[0;34m=\u001b[0m \u001b[0;36m3\u001b[0m\u001b[0;34m\u001b[0m\u001b[0m\n\u001b[1;32m      2\u001b[0m \u001b[0mt\u001b[0m \u001b[0;34m=\u001b[0m \u001b[0mnp\u001b[0m\u001b[0;34m.\u001b[0m\u001b[0marange\u001b[0m\u001b[0;34m(\u001b[0m\u001b[0;36m9\u001b[0m\u001b[0;34m)\u001b[0m\u001b[0;34m\u001b[0m\u001b[0m\n\u001b[0;32m----> 3\u001b[0;31m \u001b[0mscipy\u001b[0m\u001b[0;34m.\u001b[0m\u001b[0minterpolate\u001b[0m\u001b[0;34m.\u001b[0m\u001b[0mBSpline\u001b[0m\u001b[0;34m(\u001b[0m\u001b[0mextrapolate\u001b[0m \u001b[0;34m=\u001b[0m\u001b[0;32mFalse\u001b[0m\u001b[0;34m)\u001b[0m\u001b[0;34m\u001b[0m\u001b[0m\n\u001b[0m",
      "\u001b[0;31mTypeError\u001b[0m: __init__() missing 3 required positional arguments: 't', 'c', and 'k'"
     ]
    }
   ],
   "source": [
    "k = 3\n",
    "t = np.arange(9)\n",
    "t = \n",
    "scipy.interpolate.BSpline(extrapolate =False)"
   ]
  },
  {
   "cell_type": "markdown",
   "metadata": {
    "heading_collapsed": true
   },
   "source": [
    "# My splines"
   ]
  },
  {
   "cell_type": "code",
   "execution_count": 278,
   "metadata": {
    "ExecuteTime": {
     "end_time": "2018-11-30T21:02:49.575731Z",
     "start_time": "2018-11-30T21:02:49.502742Z"
    },
    "hidden": true
   },
   "outputs": [],
   "source": [
    "def N1d(x, i, n=0):\n",
    "    \"\"\"mhmmm\"\"\"\n",
    "    # Under no case do we return something > 0 if abs(x-0)>2\n",
    "    if np.abs(x-i) > 2:\n",
    "        return 0\n",
    "    \n",
    "    # Call appropriate derivative function\n",
    "    elif n == 0:\n",
    "        return (n1d0(x, i))\n",
    "    elif n == 1:\n",
    "        return (n1d1(x, i))\n",
    "    elif n == 2: \n",
    "        return (n1d2(x, i))\n",
    "    elif n>2:\n",
    "        print('I haven\\'t put derivatives above 2')    \n",
    "    \n",
    "def n1d0(x, i):\n",
    "    if i-2 <= x < i-1:\n",
    "        xi = (x-i)\n",
    "        f = (2+xi)**3 / 6\n",
    "        return f\n",
    "    \n",
    "    elif i-1 <=x < i:\n",
    "        xi = (x-i)\n",
    "        f = 1/6 + 1/3 * (\n",
    "            (1+xi) + (1+xi)**2 - (1+xi)**3\n",
    "            )\n",
    "        return f\n",
    "    \n",
    "    elif i <= x <= i+1:\n",
    "        xi = - (x-i)\n",
    "        f = 1/6 + 1/3 * (\n",
    "            (1+xi) + (1+xi)**2 - (1+xi)**3\n",
    "            )\n",
    "        return f\n",
    "        \n",
    "    elif i+1 <= x <= i+2:\n",
    "        xi = - (x-i)\n",
    "        f = (2+xi)**3 / 6\n",
    "        return f\n",
    "\n",
    "def n1d1(x, i):\n",
    "    if i-2 <= x < i-1:\n",
    "        f = 1/2 * (2+x-i)**2\n",
    "        return f\n",
    "    \n",
    "    elif i-1 <=x < i:\n",
    "        f = 1/3 * ( 1 + 2*(1+x-i) - 3*(1+x-i)**2 )\n",
    "        return f\n",
    "    \n",
    "    elif i <= x <= i+1:\n",
    "        f = 1/3 * (-1 - 2*(1-x+i) + 3*(1-x+i)**2 )\n",
    "        return f\n",
    "        \n",
    "    elif i+1 <= x <= i+2:\n",
    "        f =-1/2 * (2-x+i)**2\n",
    "        return f\n",
    "    \n",
    "def n1d2(x, i):\n",
    "    if i-2 <= x < i-1:\n",
    "        f = 2 + x - i\n",
    "        return f\n",
    "    \n",
    "    elif i-1 <=x < i:\n",
    "        f = 1/3 * (2 - 6*(1+x-i))\n",
    "        return f\n",
    "    \n",
    "    elif i <= x <= i+1:\n",
    "        f = 1/3 * (2 - 6*(1-x+i))\n",
    "        return f\n",
    "        \n",
    "    elif i+1 <= x <= i+2:\n",
    "        f = 2 - x + i\n",
    "        return f"
   ]
  },
  {
   "cell_type": "code",
   "execution_count": 279,
   "metadata": {
    "ExecuteTime": {
     "end_time": "2018-11-30T21:02:50.330434Z",
     "start_time": "2018-11-30T21:02:50.315808Z"
    },
    "hidden": true
   },
   "outputs": [],
   "source": [
    "import scipy.integrate as integrate"
   ]
  },
  {
   "cell_type": "code",
   "execution_count": 281,
   "metadata": {
    "ExecuteTime": {
     "end_time": "2018-11-30T21:06:17.274716Z",
     "start_time": "2018-11-30T21:06:16.414995Z"
    },
    "hidden": true
   },
   "outputs": [
    {
     "data": {
      "image/png": "[encoded data removed]",
      "text/plain": [
       "<Figure size 432x288 with 1 Axes>"
      ]
     },
     "metadata": {},
     "output_type": "display_data"
    }
   ],
   "source": [
    "xA = np.linspace(-2.5, 2.5, 1000)\n",
    "yA = np.zeros(xA.size)\n",
    "yA1 = yA.copy()\n",
    "yA2 = yA.copy()\n",
    "\n",
    "for i, val in enumerate(xA):\n",
    "    yA[i] = N1d(val, i = 0, n = 0)\n",
    "    yA1[i]= N1d(val, i = 0, n = 1)\n",
    "    yA2[i]= N1d(val, i = 0, n = 2)\n",
    "    \n",
    "# integrate.quad()  \n",
    "\n",
    "plt.plot(xA, yA)\n",
    "plt.plot(xA, yA1)\n",
    "plt.plot(xA, yA2)\n",
    "plt.show()"
   ]
  },
  {
   "cell_type": "markdown",
   "metadata": {
    "heading_collapsed": true
   },
   "source": [
    "# Splines"
   ]
  },
  {
   "cell_type": "code",
   "execution_count": 307,
   "metadata": {
    "ExecuteTime": {
     "end_time": "2018-11-30T21:32:41.526499Z",
     "start_time": "2018-11-30T21:32:41.487290Z"
    },
    "hidden": true
   },
   "outputs": [
    {
     "ename": "ValueError",
     "evalue": "Knots must be in a non-decreasing order.",
     "output_type": "error",
     "traceback": [
      "\u001b[0;31m---------------------------------------------------------------------------\u001b[0m",
      "\u001b[0;31mValueError\u001b[0m                                Traceback (most recent call last)",
      "\u001b[0;32m<ipython-input-307-61136fd8cd5e>\u001b[0m in \u001b[0;36m<module>\u001b[0;34m()\u001b[0m\n\u001b[1;32m     15\u001b[0m \u001b[0mc\u001b[0m \u001b[0;34m=\u001b[0m \u001b[0my\u001b[0m\u001b[0;34m.\u001b[0m\u001b[0mcopy\u001b[0m\u001b[0;34m(\u001b[0m\u001b[0;34m)\u001b[0m\u001b[0;34m\u001b[0m\u001b[0m\n\u001b[1;32m     16\u001b[0m \u001b[0;34m\u001b[0m\u001b[0m\n\u001b[0;32m---> 17\u001b[0;31m \u001b[0msplineB\u001b[0m \u001b[0;34m=\u001b[0m \u001b[0mscipy\u001b[0m\u001b[0;34m.\u001b[0m\u001b[0minterpolate\u001b[0m\u001b[0;34m.\u001b[0m\u001b[0mBSpline\u001b[0m\u001b[0;34m(\u001b[0m\u001b[0mt\u001b[0m\u001b[0;34m,\u001b[0m \u001b[0mc\u001b[0m\u001b[0;34m,\u001b[0m \u001b[0mk\u001b[0m\u001b[0;34m)\u001b[0m\u001b[0;34m\u001b[0m\u001b[0m\n\u001b[0m\u001b[1;32m     18\u001b[0m \u001b[0;31m# splineB2 = scipy.interpolate.BSpline(t, c/2, k)\u001b[0m\u001b[0;34m\u001b[0m\u001b[0;34m\u001b[0m\u001b[0m\n\u001b[1;32m     19\u001b[0m \u001b[0;34m\u001b[0m\u001b[0m\n",
      "\u001b[0;32m~/anaconda3/lib/python3.6/site-packages/scipy/interpolate/_bsplines.py\u001b[0m in \u001b[0;36m__init__\u001b[0;34m(self, t, c, k, extrapolate, axis)\u001b[0m\n\u001b[1;32m    215\u001b[0m                     (2*k + 2, k))\n\u001b[1;32m    216\u001b[0m         \u001b[0;32mif\u001b[0m \u001b[0;34m(\u001b[0m\u001b[0mnp\u001b[0m\u001b[0;34m.\u001b[0m\u001b[0mdiff\u001b[0m\u001b[0;34m(\u001b[0m\u001b[0mself\u001b[0m\u001b[0;34m.\u001b[0m\u001b[0mt\u001b[0m\u001b[0;34m)\u001b[0m \u001b[0;34m<\u001b[0m \u001b[0;36m0\u001b[0m\u001b[0;34m)\u001b[0m\u001b[0;34m.\u001b[0m\u001b[0many\u001b[0m\u001b[0;34m(\u001b[0m\u001b[0;34m)\u001b[0m\u001b[0;34m:\u001b[0m\u001b[0;34m\u001b[0m\u001b[0m\n\u001b[0;32m--> 217\u001b[0;31m             \u001b[0;32mraise\u001b[0m \u001b[0mValueError\u001b[0m\u001b[0;34m(\u001b[0m\u001b[0;34m\"Knots must be in a non-decreasing order.\"\u001b[0m\u001b[0;34m)\u001b[0m\u001b[0;34m\u001b[0m\u001b[0m\n\u001b[0m\u001b[1;32m    218\u001b[0m         \u001b[0;32mif\u001b[0m \u001b[0mlen\u001b[0m\u001b[0;34m(\u001b[0m\u001b[0mnp\u001b[0m\u001b[0;34m.\u001b[0m\u001b[0munique\u001b[0m\u001b[0;34m(\u001b[0m\u001b[0mself\u001b[0m\u001b[0;34m.\u001b[0m\u001b[0mt\u001b[0m\u001b[0;34m[\u001b[0m\u001b[0mk\u001b[0m\u001b[0;34m:\u001b[0m\u001b[0mn\u001b[0m\u001b[0;34m+\u001b[0m\u001b[0;36m1\u001b[0m\u001b[0;34m]\u001b[0m\u001b[0;34m)\u001b[0m\u001b[0;34m)\u001b[0m \u001b[0;34m<\u001b[0m \u001b[0;36m2\u001b[0m\u001b[0;34m:\u001b[0m\u001b[0;34m\u001b[0m\u001b[0m\n\u001b[1;32m    219\u001b[0m             \u001b[0;32mraise\u001b[0m \u001b[0mValueError\u001b[0m\u001b[0;34m(\u001b[0m\u001b[0;34m\"Need at least two internal knots.\"\u001b[0m\u001b[0;34m)\u001b[0m\u001b[0;34m\u001b[0m\u001b[0m\n",
      "\u001b[0;31mValueError\u001b[0m: Knots must be in a non-decreasing order."
     ]
    }
   ],
   "source": [
    "knots=9\n",
    "k = 3\n",
    "x = np.linspace(-1, 1, knots)\n",
    "t = np.empty( (knots+k+1) )\n",
    "t[5]=1\n",
    "\n",
    "# t[:4]=-1\n",
    "# t[4:]=1\n",
    "# t[2:-2] = x\n",
    "# t[-4:] = 5\n",
    "\n",
    "\n",
    "y = np.zeros(knots)\n",
    "y[4]=1\n",
    "c = y.copy()\n",
    "\n",
    "splineB = scipy.interpolate.BSpline(t, c, k)\n",
    "# splineB2 = scipy.interpolate.BSpline(t, c/2, k)\n",
    "\n",
    "xNew = np.linspace(-1, 1, knots*100)\n",
    "yNew = splineB(xNew)# ** 2\n",
    "# y2New= splineB2(xNew)\n",
    "\n",
    "plt.scatter(x, y)\n",
    "# plt.show()\n",
    "plt.plot(xNew, yNew)\n",
    "# plt.plot(xNew, yNew/y2New)\n",
    "plt.show()"
   ]
  },
  {
   "cell_type": "code",
   "execution_count": 298,
   "metadata": {
    "ExecuteTime": {
     "end_time": "2018-11-30T21:28:16.518761Z",
     "start_time": "2018-11-30T21:28:16.031762Z"
    },
    "hidden": true
   },
   "outputs": [
    {
     "data": {
      "text/plain": [
       "[<matplotlib.lines.Line2D at 0x7f7b0574fe48>]"
      ]
     },
     "execution_count": 298,
     "metadata": {},
     "output_type": "execute_result"
    },
    {
     "data": {
      "image/png": "[encoded data removed]",
      "text/plain": [
       "<Figure size 432x288 with 1 Axes>"
      ]
     },
     "metadata": {},
     "output_type": "display_data"
    }
   ],
   "source": [
    "dx = (np.amax(xNew)-np.amin(xNew) ) / xNew.size\n",
    "xDer = xNew[:-1]+dx/2\n",
    "yDer = (yNew[1:]-yNew[:-1])/dx\n",
    "plt.plot(xDer, yDer)"
   ]
  },
  {
   "cell_type": "code",
   "execution_count": 302,
   "metadata": {
    "ExecuteTime": {
     "end_time": "2018-11-30T21:29:44.660382Z",
     "start_time": "2018-11-30T21:29:44.210701Z"
    },
    "hidden": true
   },
   "outputs": [
    {
     "data": {
      "text/plain": [
       "[<matplotlib.lines.Line2D at 0x7f7b0579c160>]"
      ]
     },
     "execution_count": 302,
     "metadata": {},
     "output_type": "execute_result"
    },
    {
     "data": {
      "image/png": "[encoded data removed]",
      "text/plain": [
       "<Figure size 432x288 with 1 Axes>"
      ]
     },
     "metadata": {},
     "output_type": "display_data"
    }
   ],
   "source": [
    "xDer2 = xDer[:-1] + dx / 2\n",
    "yDer2 = (yDer[1:]  - yDer[:-1]) / dx\n",
    "plt.plot(xDer2, yDer2)"
   ]
  },
  {
   "cell_type": "code",
   "execution_count": 133,
   "metadata": {
    "ExecuteTime": {
     "end_time": "2018-11-27T05:09:27.171391Z",
     "start_time": "2018-11-27T05:09:26.555722Z"
    },
    "hidden": true
   },
   "outputs": [
    {
     "data": {
      "image/png": "[encoded data removed]",
      "text/plain": [
       "<Figure size 432x288 with 1 Axes>"
      ]
     },
     "metadata": {},
     "output_type": "display_data"
    },
    {
     "data": {
      "image/png": "[encoded data removed]",
      "text/plain": [
       "<Figure size 432x288 with 1 Axes>"
      ]
     },
     "metadata": {},
     "output_type": "display_data"
    }
   ],
   "source": [
    "numFirst=24\n",
    "x = np.linspace(0, 1, numFirst)\n",
    "y = np.linspace(0, 1, numFirst)**2\n",
    "\n",
    "# y[:10]=0\n",
    "# y[11:]=0\n",
    "\n",
    "spline = scipy.interpolate.make_interp_spline(x, y)\n",
    "\n",
    "numInt = 100\n",
    "xNew = np.linspace(0, 1, numInt)\n",
    "yNew = spline(xNew)\n",
    "\n",
    "# spline?\n",
    "# be = np.arange(5)\n",
    "# beR = spline.basis_element(be)\n",
    "# beR.\n",
    "# spline.c\n",
    "\n",
    "plt.scatter(x, y)\n",
    "plt.show()\n",
    "plt.scatter(xNew, yNew)\n",
    "plt.show()"
   ]
  },
  {
   "cell_type": "markdown",
   "metadata": {
    "heading_collapsed": true
   },
   "source": [
    "# Camb Paper"
   ]
  },
  {
   "cell_type": "code",
   "execution_count": 156,
   "metadata": {
    "ExecuteTime": {
     "end_time": "2018-11-30T03:45:10.253209Z",
     "start_time": "2018-11-30T03:45:10.232470Z"
    },
    "hidden": true
   },
   "outputs": [],
   "source": [
    "# def meanAndStdv(d, p):\n",
    "#     \"\"\"\n",
    "#     d = data,\n",
    "#     p = probability of that value\n",
    "#     first index is for event, second is for value at that event\n",
    "    \n",
    "#     example: \n",
    "#     v = np.array([ [1, 5], [1, 5] ])\n",
    "#     p = np.array([ [.5, .5], [1, 0] ])\n",
    "#     stdv, mean = meanAndStdv(v, p)\n",
    "    \n",
    "#     \"\"\"\n",
    "    \n",
    "#     # Make sure data is 2d, shape (n events, n values at events)\n",
    "#     if len( d.shape ) is not 2: \n",
    "#         d = d.reshape((1, d.size))\n",
    "#         p = p.reshape((1, p.size))\n",
    "        \n",
    "#     events = d.shape[0]\n",
    "        \n",
    "#     var = np.zeros(events)\n",
    "#     mean = np.zeros(events)\n",
    "    \n",
    "#     for i in np.arange(events):\n",
    "#         mean[i] = np.sum( d[i] * p[i] )\n",
    "        \n",
    "#         var[i] = np.sum( (d[i]-mean[i])**2 * p[i] )\n",
    "\n",
    "        \n",
    "#     standDev = np.sqrt(var)\n",
    "    \n",
    "#     return standDev, mean"
   ]
  },
  {
   "cell_type": "code",
   "execution_count": 167,
   "metadata": {
    "ExecuteTime": {
     "end_time": "2018-11-17T19:11:35.710627Z",
     "start_time": "2018-11-17T19:11:35.689252Z"
    },
    "hidden": true
   },
   "outputs": [],
   "source": [
    "def pGreaterZero(expectation, standDev, weight = None):\n",
    "    \"\"\"\n",
    "    C EQ 15\n",
    "    Assumes Gaussian distributions\n",
    "    \n",
    "    example: \n",
    "    N = 11\n",
    "    expectation = np.linspace(-10, 10, N)\n",
    "    standDev = np.ones(N)\n",
    "    weight = np.arange(N)\n",
    "    pGreaterZero(expectation, standDev, weight=weight)  \n",
    "    \n",
    "    \"\"\"\n",
    "    N = expectation.size\n",
    "    \n",
    "    if weight is None:\n",
    "        weight = np.ones(N)\n",
    "    \n",
    "    if (weight<0).any():\n",
    "        print( \"Cannot use negative weights. They have been set to 0\" )\n",
    "        weight[weight<0]=0\n",
    "    \n",
    "    totalWeight = np.sum(weight)\n",
    "    \n",
    "    z = expectation / (np.sqrt(2) * standDev)\n",
    "    \n",
    "    #Q = quality = probability of greater than 0\n",
    "    Q = 1/2 * (1 - 1/totalWeight * \n",
    "                   np.sum( weight * scipy.special.erf(z)) \n",
    "              )\n",
    "    return Q"
   ]
  }
 ],
 "metadata": {
  "kernelspec": {
   "display_name": "Python 3",
   "language": "python",
   "name": "python3"
  },
  "language_info": {
   "codemirror_mode": {
    "name": "ipython",
    "version": 3
   },
   "file_extension": ".py",
   "mimetype": "text/x-python",
   "name": "python",
   "nbconvert_exporter": "python",
   "pygments_lexer": "ipython3",
   "version": "3.6.5"
  },
  "toc": {
   "base_numbering": 1,
   "nav_menu": {},
   "number_sections": true,
   "sideBar": true,
   "skip_h1_title": false,
   "title_cell": "Table of Contents",
   "title_sidebar": "Contents",
   "toc_cell": false,
   "toc_position": {},
   "toc_section_display": true,
   "toc_window_display": false
  }
 },
 "nbformat": 4,
 "nbformat_minor": 2
}
