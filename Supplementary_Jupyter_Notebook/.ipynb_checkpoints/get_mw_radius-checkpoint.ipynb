{
 "cells": [
  {
   "cell_type": "code",
   "execution_count": 1,
   "metadata": {
    "ExecuteTime": {
     "end_time": "2019-03-05T19:11:54.972258Z",
     "start_time": "2019-03-05T19:11:53.664855Z"
    }
   },
   "outputs": [],
   "source": [
    "import numpy as np\n",
    "import pandas as pd\n",
    "import matplotlib.pyplot as plt"
   ]
  },
  {
   "cell_type": "code",
   "execution_count": 2,
   "metadata": {
    "ExecuteTime": {
     "end_time": "2019-03-05T19:11:55.513723Z",
     "start_time": "2019-03-05T19:11:54.979066Z"
    }
   },
   "outputs": [],
   "source": [
    "%run Load_Data.ipynb"
   ]
  },
  {
   "cell_type": "code",
   "execution_count": 3,
   "metadata": {
    "ExecuteTime": {
     "end_time": "2019-03-05T19:11:56.087193Z",
     "start_time": "2019-03-05T19:11:55.518435Z"
    }
   },
   "outputs": [],
   "source": [
    "(latitude, longitude, depth, mL, radius, ST1, \n",
    "            DIP1, RK1, ST2, DIP2, RK2, tt, SLIP\n",
    "            ) = loadINGV()"
   ]
  },
  {
   "cell_type": "code",
   "execution_count": 4,
   "metadata": {
    "ExecuteTime": {
     "end_time": "2019-03-05T19:11:56.118437Z",
     "start_time": "2019-03-05T19:11:56.095919Z"
    }
   },
   "outputs": [],
   "source": [
    "def mLtomW(mL):\n",
    "    # From Munafò et al., 2016 - BSSA\n",
    "    mW = mL*2/3 + 1.15\n",
    "    mW[mL>4] = mL[mL>4]\n",
    "        \n",
    "    return mW\n",
    "\n",
    "def mWtomO(mW):\n",
    "\n",
    "    # old implementation commented out\n",
    "    #     mO = 10 ** (1.5 * mW + 16.1)\n",
    "    #     mO = mO * 1e-5 * 1e-2 # 1d = 1e-5N   1m = 1e-2cm\n",
    "\n",
    "    mO = 10 ** (3/2 * (mW + 6.07) ) # Hanks and Kanamori (1979)\n",
    "    return mO\n",
    "\n",
    "def mOtoRad(mO, stressDrop, P):\n",
    "    \"\"\"P is Poisson\"\"\"\n",
    "    # Cambiotti described this\n",
    "    rad = (\n",
    "            3/2 * \n",
    "           (2-P)/(1-P) * \n",
    "           (mO / stressDrop)\n",
    "        \n",
    "          ) ** (1/3)\n",
    "    return rad\n",
    "\n",
    "def slipConstant(shearMod, area, moment):\n",
    "    # From moment = shearMod * area * slip\n",
    "    slipConstant = moment / (shearMod * area)\n",
    "    return slipConstant\n",
    "\n",
    "def ellipSlipMax(slipAv, area, yMax, xMax):\n",
    "    # I wrote the solution to this. It's found by suggesting that moment is conserved\n",
    "    # moving from an constant slip to elliptical slip. \n",
    "    sMax = 3/(2 * np.pi) * (slipAv * area) / (yMax * xMax)\n",
    "    return sMax\n",
    "\n",
    "# # Generate elliptical slip distribution. \n",
    "# def faultMatsSlip(slipAv, xArr, xLength, yArr, yLength, xLengthRect=None, yLengthRect=None):\n",
    "#     # old function\n",
    "#     \"\"\"returns (slipEll)\n",
    "\n",
    "#     slipAv: average or constant slip value.\n",
    "#     xArr, yArr: how far (in meters) is the center of a cell from the center\n",
    "#         of the fault.\n",
    "#     xLength, yLength: total length of the fault in meters. \n",
    "\n",
    "#     (this is being changed Feb 9 2019) Currently, the parent fault that is being split is assumed\n",
    "#         to have been rectangular. This can be changed by \n",
    "#         changing how area is calculated in slipMax. \"\"\"\n",
    "\n",
    "#     # Initialize slip ellipse array\n",
    "#     slipEll = np.zeros((xArr.shape))\n",
    "\n",
    "#     # Area of parent fault. Parent fault is a rectangle for now.\n",
    "#     area = xLength * yLength\n",
    "\n",
    "#     #Maximum slip is part of elliptical function. Needs to be double checked. \n",
    "#     slipMax = 3 * slipAv * area / (\n",
    "#         2 * np.pi * .5 * yLength * .5 * xLength)\n",
    "\n",
    "#     # Boolean to indicate which parts of array are within the ellipse\n",
    "#     # External parts of fault have 0 slip.\n",
    "#     ellBool = (xArr/(.5*xLength))**2 + (yArr/(.5*yLength))**2 < 1\n",
    "\n",
    "#     # Slip at each point according to elliptical slip distribution\n",
    "#     slipEll[ellBool] = ( slipMax * np.sqrt(1\n",
    "#         - (xArr[ellBool]/(.5*xLength))**2 \n",
    "#         - (yArr[ellBool]/(.5*yLength))**2 \n",
    "#         ) ) \n",
    "\n",
    "#     if xLengthRect is None or yLengthRect is None:\n",
    "#         # Only valid if all cells are same size.\n",
    "#         xLengthRect = xLength / xArr.shape[1]\n",
    "#         yLengthRect = yLength / xArr.shape[0]\n",
    "\n",
    "#     # Correct for any modification to total moment.\n",
    "#     if np.sum(slipEll)!=0:\n",
    "#         errorCorrection = slipAv * xLength * yLength / (\n",
    "#             np.sum( xLengthRect * yLengthRect * slipEll )\n",
    "#             )\n",
    "\n",
    "#         slipEll = slipEll * errorCorrection\n",
    "\n",
    "#     return slipEll\n",
    "\n",
    "stressDrop = 10e6\n",
    "P = .25\n",
    "shearMod = 30e9\n",
    "\n",
    "mW = mLtomW(mL) # Checked\n",
    "mO = mWtomO(mW) # Checked\n",
    "rad= mOtoRad(mO, stressDrop, P)\n",
    "area = np.pi * rad**2\n",
    "slipC = slipConstant(shearMod, area, mO)\n",
    "slipM = ellipSlipMax(slipC, area, rad, rad)\n",
    "\n",
    "plt.scatter(mL, mW)\n",
    "\n",
    "plt.scatter(mW, rad)"
   ]
  }
 ],
 "metadata": {
  "kernelspec": {
   "display_name": "Python 3",
   "language": "python",
   "name": "python3"
  },
  "language_info": {
   "codemirror_mode": {
    "name": "ipython",
    "version": 3
   },
   "file_extension": ".py",
   "mimetype": "text/x-python",
   "name": "python",
   "nbconvert_exporter": "python",
   "pygments_lexer": "ipython3",
   "version": "3.6.5"
  }
 },
 "nbformat": 4,
 "nbformat_minor": 2
}
