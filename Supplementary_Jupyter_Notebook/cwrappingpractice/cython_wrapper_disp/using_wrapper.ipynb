{
 "cells": [
  {
   "cell_type": "code",
   "execution_count": 2,
   "metadata": {},
   "outputs": [],
   "source": [
    "import pyexamples"
   ]
  },
  {
   "cell_type": "code",
   "execution_count": 3,
   "metadata": {},
   "outputs": [],
   "source": [
    "pyexamples = reload(pyexamples)"
   ]
  },
  {
   "cell_type": "code",
   "execution_count": 10,
   "metadata": {},
   "outputs": [],
   "source": [
    "DisplNoLoop = np.array([0., 0., 0.])\n",
    "X = 1.\n",
    "Y = 1.\n",
    "Z = -1.\n",
    "P1 = np.array([0., 0., 0.])\n",
    "P2 = np.array([-1., -1., -1.])\n",
    "P3 = np.array([-1., -2., -3.])\n",
    "Ss = -1.\n",
    "Ds = -1.\n",
    "Ts = 0.\n",
    "nu = .25\n",
    "\n",
    "num = 10000\n",
    "XX = np.ones(num) * X + np.arange(num)\n",
    "YY = np.ones(num) * Y\n",
    "ZZ = np.ones(num) * Z\n",
    "Displ = np.zeros((num, 3))"
   ]
  },
  {
   "cell_type": "code",
   "execution_count": 16,
   "metadata": {},
   "outputs": [],
   "source": [
    "def doNothing(num):\n",
    "    for i in range(num):\n",
    "        pass\n"
   ]
  },
  {
   "cell_type": "code",
   "execution_count": 17,
   "metadata": {},
   "outputs": [
    {
     "name": "stdout",
     "output_type": "stream",
     "text": [
      "576 µs ± 37.2 µs per loop (mean ± std. dev. of 7 runs, 1000 loops each)\n"
     ]
    }
   ],
   "source": [
    "%%timeit\n",
    "doNothing(num)"
   ]
  },
  {
   "cell_type": "code",
   "execution_count": 11,
   "metadata": {},
   "outputs": [
    {
     "name": "stdout",
     "output_type": "stream",
     "text": [
      "549 ms ± 5.56 ms per loop (mean ± std. dev. of 7 runs, 1 loop each)\n"
     ]
    }
   ],
   "source": [
    "%%timeit\n",
    "for i in range(num):\n",
    "    pyexamples.py_DispInHalfSpaceNonLoop(DisplNoLoop,\n",
    "                                  X, Y, Z,\n",
    "                                  P1, P2, P3,\n",
    "                                  Ss, Ds, Ts,\n",
    "                                  nu)"
   ]
  },
  {
   "cell_type": "code",
   "execution_count": 12,
   "metadata": {},
   "outputs": [
    {
     "name": "stdout",
     "output_type": "stream",
     "text": [
      "505 ms ± 8.34 ms per loop (mean ± std. dev. of 7 runs, 1 loop each)\n"
     ]
    }
   ],
   "source": [
    "%%timeit\n",
    "pyexamples.py_DispInHalfSpace(Displ,\n",
    "                              XX, YY, ZZ,\n",
    "                              P1, P2, P3,\n",
    "                              Ss, Ds, Ts,\n",
    "                              nu)"
   ]
  },
  {
   "cell_type": "code",
   "execution_count": 13,
   "metadata": {},
   "outputs": [
    {
     "name": "stdout",
     "output_type": "stream",
     "text": [
      "279 ms ± 2.86 ms per loop (mean ± std. dev. of 7 runs, 1 loop each)\n"
     ]
    }
   ],
   "source": [
    "%%timeit\n",
    "for i in range(num):\n",
    "    dc3dwrapper(nu,\n",
    "                [X, Y, Z],\n",
    "                1, 45 * 180 / np.pi, \n",
    "                [-.5, .5],\n",
    "                [-.5, .5],\n",
    "                [Ss, Ds, Ts])"
   ]
  },
  {
   "cell_type": "code",
   "execution_count": null,
   "metadata": {},
   "outputs": [],
   "source": []
  }
 ],
 "metadata": {
  "kernelspec": {
   "display_name": "Python 3",
   "language": "python",
   "name": "python3"
  },
  "language_info": {
   "codemirror_mode": {
    "name": "ipython",
    "version": 3
   },
   "file_extension": ".py",
   "mimetype": "text/x-python",
   "name": "python",
   "nbconvert_exporter": "python",
   "pygments_lexer": "ipython3",
   "version": "3.7.1"
  }
 },
 "nbformat": 4,
 "nbformat_minor": 2
}
